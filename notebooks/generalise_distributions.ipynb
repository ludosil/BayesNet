{
 "cells": [
  {
   "cell_type": "markdown",
   "id": "a0f5dd1c",
   "metadata": {},
   "source": [
    "Let's revisit the initial code used to model distributions. This relates to GIt commit 6e0ca5bec5735a5fb19460227df7586a9348ad3c. "
   ]
  },
  {
   "cell_type": "code",
   "execution_count": 282,
   "id": "b2b0c76c",
   "metadata": {
    "ExecuteTime": {
     "end_time": "2023-12-17T13:53:21.230194Z",
     "start_time": "2023-12-17T13:53:20.282166Z"
    }
   },
   "outputs": [],
   "source": [
    "%reset -f\n",
    "import json\n",
    "import autopep8"
   ]
  },
  {
   "cell_type": "code",
   "execution_count": 283,
   "id": "b2783c27",
   "metadata": {
    "ExecuteTime": {
     "end_time": "2023-12-17T13:53:21.246172Z",
     "start_time": "2023-12-17T13:53:21.235195Z"
    }
   },
   "outputs": [],
   "source": [
    "from enum import Enum\n",
    "from scipy.stats import bernoulli\n",
    "from dataclasses import dataclass\n",
    "from typing import Callable\n",
    "\n",
    "\n",
    "class Distribution(Enum):\n",
    "    BERNOULLI = 1\n",
    "\n",
    "\n",
    "distribution_to_ppf = {Distribution.BERNOULLI: bernoulli}\n",
    "\n",
    "distribution_to_possible_values = {Distribution.BERNOULLI: [0, 1]}\n",
    "\n",
    "\n",
    "@dataclass\n",
    "class ConditionalDistribution:\n",
    "    \"\"\"Class for representing a conditional distribution.\"\"\"\n",
    "\n",
    "    distribution: Distribution\n",
    "    parameters: dict\n",
    "    conditionals: [tuple]\n",
    "    ppf: Callable\n"
   ]
  },
  {
   "cell_type": "markdown",
   "id": "7102b943",
   "metadata": {},
   "source": [
    "It works, but it's a little disjointed, and it's not obvious or easy how we can extend the functionality beyond the present implementation of Bernoulli distributions modelling 0/1 variables. The enumeration and class remain sensible, but the dictionaries represent functionality that can be referenced from the object i.e. the ppf function is already an attribute, while the possible values can be added. \n",
    "\n",
    "We update the class definition to add an initialisation function. The function accepts as arguments a distribution enumeration, a dictionary of parameters, and a list of (conditional,value) pairs. The ppf function and possible values are set within the function. The implementation is extended to allow categorical distributions in addition to Bernoulli."
   ]
  },
  {
   "cell_type": "code",
   "execution_count": 284,
   "id": "2574e864",
   "metadata": {
    "ExecuteTime": {
     "end_time": "2023-12-17T13:53:21.277207Z",
     "start_time": "2023-12-17T13:53:21.250175Z"
    }
   },
   "outputs": [],
   "source": [
    "from scipy.stats import rv_discrete\n",
    "import numpy as np\n",
    "\n",
    "class Distribution(Enum):\n",
    "    BERNOULLI = 1\n",
    "    CATEGORICAL = 2\n",
    "\n",
    "\n",
    "class ConditionalDistribution:\n",
    "    \"\"\"Class for representing a conditional distribution.\"\"\"\n",
    "\n",
    "    distribution: Distribution\n",
    "    parameters: dict\n",
    "    conditionals: [tuple]\n",
    "    ppf: Callable\n",
    "    possible_values: list\n",
    "\n",
    "    def __init__(self, distribution, parameters, conditionals):\n",
    "        self.distribution = distribution\n",
    "        self.parameters = parameters\n",
    "        self.conditionals = conditionals\n",
    "\n",
    "        if distribution == Distribution.BERNOULLI:\n",
    "            # check only one parameter, p\n",
    "            assert set(parameters.keys()) == {'p'}\n",
    "            self.ppf = lambda x: bernoulli.ppf(x, **parameters).astype(int)\n",
    "            self.possible_values = [0, 1]\n",
    "        elif distribution == Distribution.CATEGORICAL:\n",
    "            # extract into categories, categories as integers and probabilities\n",
    "            cats = list(parameters.keys())\n",
    "            cats_int = range(len(cats))\n",
    "            probs = list(parameters.values())\n",
    "            # check probabilities sum to 1 and are individually 0-1\n",
    "            assert sum(probs) == 1\n",
    "            assert all([p >= 0 and p < 1 for p in probs])\n",
    "            # use internal function for integer distribution via rv_discrete\n",
    "            # when call to ppf is made, use interal distribution's ppf then map back\n",
    "            # note handling of iterable vs. non-iterable\n",
    "            cats_dict = dict(zip(cats_int, cats))\n",
    "            self._dist_int = rv_discrete(values=(cats_int, probs))\n",
    "\n",
    "            def ppf(x):\n",
    "                try:\n",
    "                    iterator = iter(x)\n",
    "                except TypeError:\n",
    "                    return cats_dict[self._dist_int.ppf(x)]\n",
    "                else:\n",
    "                    return np.array([cats_dict[rv_int] for rv_int in self._dist_int.ppf(x)])\n",
    "            self.ppf = ppf\n",
    "            self.possible_values = cats\n",
    "\n",
    "        else:\n",
    "            raise AssertionError(\n",
    "                f\"Invalid distribution selected. Valid choices are: {[d.name for d in Distribution]}\"\n",
    "            )"
   ]
  },
  {
   "cell_type": "markdown",
   "id": "48bf7fc5",
   "metadata": {},
   "source": [
    "Let's test this using the alarm network and the random number set from the Excel model."
   ]
  },
  {
   "cell_type": "code",
   "execution_count": 285,
   "id": "e94d3130",
   "metadata": {
    "ExecuteTime": {
     "end_time": "2023-12-17T13:53:21.516560Z",
     "start_time": "2023-12-17T13:53:21.283206Z"
    }
   },
   "outputs": [
    {
     "data": {
      "text/html": [
       "<div>\n",
       "<style scoped>\n",
       "    .dataframe tbody tr th:only-of-type {\n",
       "        vertical-align: middle;\n",
       "    }\n",
       "\n",
       "    .dataframe tbody tr th {\n",
       "        vertical-align: top;\n",
       "    }\n",
       "\n",
       "    .dataframe thead th {\n",
       "        text-align: right;\n",
       "    }\n",
       "</style>\n",
       "<table border=\"1\" class=\"dataframe\">\n",
       "  <thead>\n",
       "    <tr style=\"text-align: right;\">\n",
       "      <th></th>\n",
       "      <th>B</th>\n",
       "      <th>E</th>\n",
       "      <th>A</th>\n",
       "      <th>M</th>\n",
       "      <th>J</th>\n",
       "    </tr>\n",
       "  </thead>\n",
       "  <tbody>\n",
       "    <tr>\n",
       "      <th>0</th>\n",
       "      <td>0.946102</td>\n",
       "      <td>0.578330</td>\n",
       "      <td>0.741226</td>\n",
       "      <td>0.365127</td>\n",
       "      <td>0.833227</td>\n",
       "    </tr>\n",
       "    <tr>\n",
       "      <th>1</th>\n",
       "      <td>0.998269</td>\n",
       "      <td>0.157830</td>\n",
       "      <td>0.723855</td>\n",
       "      <td>0.279586</td>\n",
       "      <td>0.861028</td>\n",
       "    </tr>\n",
       "    <tr>\n",
       "      <th>2</th>\n",
       "      <td>0.537858</td>\n",
       "      <td>0.691179</td>\n",
       "      <td>0.728596</td>\n",
       "      <td>0.346864</td>\n",
       "      <td>0.346127</td>\n",
       "    </tr>\n",
       "    <tr>\n",
       "      <th>3</th>\n",
       "      <td>0.420817</td>\n",
       "      <td>0.045270</td>\n",
       "      <td>0.658436</td>\n",
       "      <td>0.841218</td>\n",
       "      <td>0.978299</td>\n",
       "    </tr>\n",
       "    <tr>\n",
       "      <th>4</th>\n",
       "      <td>0.762577</td>\n",
       "      <td>0.817734</td>\n",
       "      <td>0.442690</td>\n",
       "      <td>0.748229</td>\n",
       "      <td>0.558408</td>\n",
       "    </tr>\n",
       "  </tbody>\n",
       "</table>\n",
       "</div>"
      ],
      "text/plain": [
       "          B         E         A         M         J\n",
       "0  0.946102  0.578330  0.741226  0.365127  0.833227\n",
       "1  0.998269  0.157830  0.723855  0.279586  0.861028\n",
       "2  0.537858  0.691179  0.728596  0.346864  0.346127\n",
       "3  0.420817  0.045270  0.658436  0.841218  0.978299\n",
       "4  0.762577  0.817734  0.442690  0.748229  0.558408"
      ]
     },
     "execution_count": 285,
     "metadata": {},
     "output_type": "execute_result"
    }
   ],
   "source": [
    "import pandas as pd\n",
    "\n",
    "with open('../excel/fixed_random_numbers_100k.csv', 'r') as f:\n",
    "    random_numbers = pd.read_csv(f)\n",
    "N = random_numbers.shape[0]\n",
    "\n",
    "random_numbers = 1 - random_numbers  # to align Excel and ppf, since Excel tests lower tail\n",
    "random_numbers.head()"
   ]
  },
  {
   "cell_type": "markdown",
   "id": "34df9c6c",
   "metadata": {},
   "source": [
    "Create condition distributions for the independent node B, one Bernoulli and one categorical using labels 'B' and 'No B'. Generate instances using the ppf functions and check whether the output is consistent i.e. that 1s line up to 'B's and 0s line up to 'No B's."
   ]
  },
  {
   "cell_type": "code",
   "execution_count": 286,
   "id": "ea9e6701",
   "metadata": {
    "ExecuteTime": {
     "end_time": "2023-12-17T13:53:21.739605Z",
     "start_time": "2023-12-17T13:53:21.520553Z"
    }
   },
   "outputs": [],
   "source": [
    "cd_B_bernoulli = ConditionalDistribution(distribution=Distribution.BERNOULLI,\n",
    "                                         parameters={'p': 0.001},\n",
    "                                         conditionals=None)\n",
    "\n",
    "cd_B_categorical = ConditionalDistribution(distribution=Distribution.CATEGORICAL,\n",
    "                                           parameters={\n",
    "                                               'B': 0.001, 'No B': 0.999},\n",
    "                                           conditionals=None)\n",
    "\n",
    "rvs_B_bernoulli = cd_B_bernoulli.ppf(random_numbers['B'])\n",
    "rvs_B_categorical = cd_B_categorical.ppf(1 - random_numbers['B'])\n",
    "map_cat_bernoulli = {'No B': 0, 'B': 1}\n",
    "rvs_B_categorical_mapped = np.array(\n",
    "    [map_cat_bernoulli[rv] for rv in rvs_B_categorical])\n",
    "\n",
    "assert all(rvs_B_bernoulli == rvs_B_categorical_mapped)"
   ]
  },
  {
   "cell_type": "markdown",
   "id": "bb059b80",
   "metadata": {},
   "source": [
    "Note that, in calling the ppf function of the categorical distribution, we apply one minus the random numbers. This is due to the convention of the underlying rv_discrete function i.e. "
   ]
  },
  {
   "cell_type": "code",
   "execution_count": 287,
   "id": "c72c8fa6",
   "metadata": {
    "ExecuteTime": {
     "end_time": "2023-12-17T13:53:21.755607Z",
     "start_time": "2023-12-17T13:53:21.743617Z"
    }
   },
   "outputs": [
    {
     "name": "stdout",
     "output_type": "stream",
     "text": [
      "0\n",
      "1\n",
      "B\n",
      "No B\n"
     ]
    }
   ],
   "source": [
    "print(cd_B_bernoulli.ppf(0.0005))\n",
    "print(cd_B_bernoulli.ppf(0.9995))\n",
    "print(cd_B_categorical.ppf(0.0005))\n",
    "print(cd_B_categorical.ppf(0.9995))"
   ]
  }
 ],
 "metadata": {
  "kernelspec": {
   "display_name": ".venv",
   "language": "python",
   "name": ".venv"
  },
  "language_info": {
   "codemirror_mode": {
    "name": "ipython",
    "version": 3
   },
   "file_extension": ".py",
   "mimetype": "text/x-python",
   "name": "python",
   "nbconvert_exporter": "python",
   "pygments_lexer": "ipython3",
   "version": "3.8.0"
  },
  "toc": {
   "base_numbering": 1,
   "nav_menu": {},
   "number_sections": true,
   "sideBar": true,
   "skip_h1_title": false,
   "title_cell": "Table of Contents",
   "title_sidebar": "Contents",
   "toc_cell": false,
   "toc_position": {},
   "toc_section_display": true,
   "toc_window_display": false
  },
  "varInspector": {
   "cols": {
    "lenName": 16,
    "lenType": 16,
    "lenVar": 40
   },
   "kernels_config": {
    "python": {
     "delete_cmd_postfix": "",
     "delete_cmd_prefix": "del ",
     "library": "var_list.py",
     "varRefreshCmd": "print(var_dic_list())"
    },
    "r": {
     "delete_cmd_postfix": ") ",
     "delete_cmd_prefix": "rm(",
     "library": "var_list.r",
     "varRefreshCmd": "cat(var_dic_list()) "
    }
   },
   "types_to_exclude": [
    "module",
    "function",
    "builtin_function_or_method",
    "instance",
    "_Feature"
   ],
   "window_display": false
  }
 },
 "nbformat": 4,
 "nbformat_minor": 5
}
