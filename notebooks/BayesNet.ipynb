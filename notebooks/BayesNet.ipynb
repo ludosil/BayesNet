{
 "cells": [
  {
   "cell_type": "markdown",
   "id": "38e6640b",
   "metadata": {},
   "source": [
    "# What is a Bayes net?\n",
    "\n",
    "A Bayes net - or Bayesian network - is a probabilistic graphical model, or PGM. It is a simple and intuitive way to represent a joint probability distribution by specifying conditional probability distributions for the underlying variables in the network. Bayes nets can represent both discrete and continuous variables, though we will focus initially on networks with only discrete variables. \n",
    "\n",
    "We'll use two toy examples to explore the implementation.\n",
    "\n",
    "1. The alarm network: https://github.com/jpmcarrilho/AIMA/blob/master/probability-4e.ipynb \n",
    "    _The story, from Judea Pearl, is that there is a house burglar alarm, which can be triggered by either a burglary or an earthquake. If the alarm sounds, one or both of the neighbors, John and Mary, might call the owner to say the alarm is sounding._"
   ]
  },
  {
   "cell_type": "markdown",
   "id": "134505e5",
   "metadata": {},
   "source": [
    "# Representing a Bayes net in code\n",
    "\n",
    "Conceptually a Bayes net is simple; all we need is the node mappings, or dependencies, and the probabilities that define the conditional / unconditional probability distributions.  \n",
    "\n",
    "In terms of defining a structure, we will look to capture the key attributes.\n",
    "\n",
    "|Attribute |Description| \n",
    "|-----|-----|\n",
    "| _names_ |Maps a convenient shorthand node label to the to the full text e.g. A for Alarm  |\n",
    "|_dependencies_|Maps nodes to their dependents |\n",
    "|_parents_|Maps nodes to their parents |\n",
    "|_conditional_probabilities_|Maps nodes to their conditional probabilities |\n",
    "|_independent_nodes_|Set of nodes with no parents |\n",
    "|_leaf_nodes_|Set of nodes with no dependencies |"
   ]
  },
  {
   "cell_type": "markdown",
   "id": "7fd3f1b0",
   "metadata": {},
   "source": [
    "We can use a dataclass to represent this structure for the two examples. In this case we are constructing the network manually, but later we will generalise the process such that the structure can be generated from a minimal representation i.e. the conditional probabilities. For now the conditional probabilities will be set as None."
   ]
  },
  {
   "cell_type": "code",
   "execution_count": 944,
   "id": "37e42163",
   "metadata": {
    "ExecuteTime": {
     "end_time": "2023-12-06T23:45:20.629537Z",
     "start_time": "2023-12-06T23:45:20.621534Z"
    }
   },
   "outputs": [],
   "source": [
    "from dataclasses import dataclass\n",
    "\n",
    "\n",
    "@dataclass\n",
    "class BayesNet:\n",
    "    \"\"\"Class for representing a Bayes net.\"\"\"\n",
    "    names: dict\n",
    "    dependencies: dict\n",
    "    parents: dict\n",
    "    conditional_probabilities: dict\n",
    "    all_nodes: set\n",
    "    independent_nodes: set\n",
    "    leaf_nodes: set"
   ]
  },
  {
   "cell_type": "code",
   "execution_count": 945,
   "id": "14988680",
   "metadata": {
    "ExecuteTime": {
     "end_time": "2023-12-06T23:45:20.653552Z",
     "start_time": "2023-12-06T23:45:20.629537Z"
    }
   },
   "outputs": [],
   "source": [
    "bayesnet_alarm = BayesNet(names={\n",
    "    'B': 'Burglary',\n",
    "    'E': 'Earthquake',\n",
    "    'A': 'Alarm',\n",
    "    'M': 'Mary calls',\n",
    "    'J': 'John calls'\n",
    "},\n",
    "    dependencies={\n",
    "    'B': ['A'],\n",
    "    'E': ['A'],\n",
    "    'A': ['M', 'J']\n",
    "},\n",
    "    parents={\n",
    "    'M': ['A'],\n",
    "    'J': ['A'],\n",
    "    'A': ['B', 'E']\n",
    "},\n",
    "    conditional_probabilities=None,\n",
    "    all_nodes={'B', 'E', 'A', 'M', 'J'},\n",
    "    independent_nodes={'B', 'E'},\n",
    "    leaf_nodes={'M', 'J'})"
   ]
  },
  {
   "cell_type": "markdown",
   "id": "d22b09ab",
   "metadata": {},
   "source": [
    "# Visualising a Bayes net\n",
    "\n",
    "Seeing a network makes it easier to interpret. The package graphviz is a useful tool to help us; all we need to do is specify the nodes, and the edges between nodes, which we can extract from the attributes."
   ]
  },
  {
   "cell_type": "code",
   "execution_count": 946,
   "id": "43b2ad53",
   "metadata": {
    "ExecuteTime": {
     "end_time": "2023-12-06T23:45:20.669567Z",
     "start_time": "2023-12-06T23:45:20.653552Z"
    }
   },
   "outputs": [],
   "source": [
    "import graphviz\n",
    "\n",
    "\n",
    "def visualise_bn(bn: BayesNet, use_full_names: bool):\n",
    "    \"\"\"Visualises Bayes net object.\"\"\"\n",
    "    g = graphviz.Digraph()\n",
    "    for node, next_nodes in bn.dependencies.items():\n",
    "        for nn in next_nodes:\n",
    "            if use_full_names:\n",
    "                g.edge(bn.names[node], bn.names[nn])\n",
    "            else:\n",
    "                g.edge(node, nn)\n",
    "    return g"
   ]
  },
  {
   "cell_type": "code",
   "execution_count": 947,
   "id": "6305a22b",
   "metadata": {
    "ExecuteTime": {
     "end_time": "2023-12-06T23:45:20.917638Z",
     "start_time": "2023-12-06T23:45:20.669567Z"
    }
   },
   "outputs": [
    {
     "data": {
      "image/svg+xml": [
       "<?xml version=\"1.0\" encoding=\"UTF-8\" standalone=\"no\"?>\r\n",
       "<!DOCTYPE svg PUBLIC \"-//W3C//DTD SVG 1.1//EN\"\r\n",
       " \"http://www.w3.org/Graphics/SVG/1.1/DTD/svg11.dtd\">\r\n",
       "<!-- Generated by graphviz version 2.38.0 (20140413.2041)\r\n",
       " -->\r\n",
       "<!-- Title: %3 Pages: 1 -->\r\n",
       "<svg width=\"219pt\" height=\"188pt\"\r\n",
       " viewBox=\"0.00 0.00 219.44 188.00\" xmlns=\"http://www.w3.org/2000/svg\" xmlns:xlink=\"http://www.w3.org/1999/xlink\">\r\n",
       "<g id=\"graph0\" class=\"graph\" transform=\"scale(1 1) rotate(0) translate(4 184)\">\r\n",
       "<title>%3</title>\r\n",
       "<polygon fill=\"white\" stroke=\"none\" points=\"-4,4 -4,-184 215.441,-184 215.441,4 -4,4\"/>\r\n",
       "<!-- Burglary -->\r\n",
       "<g id=\"node1\" class=\"node\"><title>Burglary</title>\r\n",
       "<ellipse fill=\"none\" stroke=\"black\" cx=\"49.0957\" cy=\"-162\" rx=\"41.6928\" ry=\"18\"/>\r\n",
       "<text text-anchor=\"middle\" x=\"49.0957\" y=\"-158.3\" font-family=\"Times New Roman,serif\" font-size=\"14.00\">Burglary</text>\r\n",
       "</g>\r\n",
       "<!-- Alarm -->\r\n",
       "<g id=\"node2\" class=\"node\"><title>Alarm</title>\r\n",
       "<ellipse fill=\"none\" stroke=\"black\" cx=\"104.096\" cy=\"-90\" rx=\"32.4942\" ry=\"18\"/>\r\n",
       "<text text-anchor=\"middle\" x=\"104.096\" y=\"-86.3\" font-family=\"Times New Roman,serif\" font-size=\"14.00\">Alarm</text>\r\n",
       "</g>\r\n",
       "<!-- Burglary&#45;&gt;Alarm -->\r\n",
       "<g id=\"edge1\" class=\"edge\"><title>Burglary&#45;&gt;Alarm</title>\r\n",
       "<path fill=\"none\" stroke=\"black\" d=\"M61.8521,-144.765C68.893,-135.804 77.7645,-124.512 85.5579,-114.594\"/>\r\n",
       "<polygon fill=\"black\" stroke=\"black\" points=\"88.3608,-116.691 91.7869,-106.666 82.8565,-112.367 88.3608,-116.691\"/>\r\n",
       "</g>\r\n",
       "<!-- Mary calls -->\r\n",
       "<g id=\"node4\" class=\"node\"><title>Mary calls</title>\r\n",
       "<ellipse fill=\"none\" stroke=\"black\" cx=\"48.0957\" cy=\"-18\" rx=\"48.1917\" ry=\"18\"/>\r\n",
       "<text text-anchor=\"middle\" x=\"48.0957\" y=\"-14.3\" font-family=\"Times New Roman,serif\" font-size=\"14.00\">Mary calls</text>\r\n",
       "</g>\r\n",
       "<!-- Alarm&#45;&gt;Mary calls -->\r\n",
       "<g id=\"edge3\" class=\"edge\"><title>Alarm&#45;&gt;Mary calls</title>\r\n",
       "<path fill=\"none\" stroke=\"black\" d=\"M91.3885,-73.1159C84.4302,-64.4181 75.6543,-53.4483 67.8259,-43.6627\"/>\r\n",
       "<polygon fill=\"black\" stroke=\"black\" points=\"70.5136,-41.4196 61.5336,-35.7973 65.0476,-45.7925 70.5136,-41.4196\"/>\r\n",
       "</g>\r\n",
       "<!-- John calls -->\r\n",
       "<g id=\"node5\" class=\"node\"><title>John calls</title>\r\n",
       "<ellipse fill=\"none\" stroke=\"black\" cx=\"160.096\" cy=\"-18\" rx=\"46.2923\" ry=\"18\"/>\r\n",
       "<text text-anchor=\"middle\" x=\"160.096\" y=\"-14.3\" font-family=\"Times New Roman,serif\" font-size=\"14.00\">John calls</text>\r\n",
       "</g>\r\n",
       "<!-- Alarm&#45;&gt;John calls -->\r\n",
       "<g id=\"edge4\" class=\"edge\"><title>Alarm&#45;&gt;John calls</title>\r\n",
       "<path fill=\"none\" stroke=\"black\" d=\"M116.803,-73.1159C123.862,-64.292 132.792,-53.1298 140.705,-43.238\"/>\r\n",
       "<polygon fill=\"black\" stroke=\"black\" points=\"143.536,-45.3022 147.05,-35.307 138.07,-40.9293 143.536,-45.3022\"/>\r\n",
       "</g>\r\n",
       "<!-- Earthquake -->\r\n",
       "<g id=\"node3\" class=\"node\"><title>Earthquake</title>\r\n",
       "<ellipse fill=\"none\" stroke=\"black\" cx=\"160.096\" cy=\"-162\" rx=\"51.1914\" ry=\"18\"/>\r\n",
       "<text text-anchor=\"middle\" x=\"160.096\" y=\"-158.3\" font-family=\"Times New Roman,serif\" font-size=\"14.00\">Earthquake</text>\r\n",
       "</g>\r\n",
       "<!-- Earthquake&#45;&gt;Alarm -->\r\n",
       "<g id=\"edge2\" class=\"edge\"><title>Earthquake&#45;&gt;Alarm</title>\r\n",
       "<path fill=\"none\" stroke=\"black\" d=\"M146.825,-144.411C139.82,-135.655 131.097,-124.751 123.361,-115.082\"/>\r\n",
       "<polygon fill=\"black\" stroke=\"black\" points=\"125.866,-112.61 116.886,-106.988 120.4,-116.983 125.866,-112.61\"/>\r\n",
       "</g>\r\n",
       "</g>\r\n",
       "</svg>\r\n"
      ],
      "text/plain": [
       "<graphviz.dot.Digraph at 0x1b7eab39c08>"
      ]
     },
     "execution_count": 947,
     "metadata": {},
     "output_type": "execute_result"
    }
   ],
   "source": [
    "visualise_bn(bn=bayesnet_alarm, use_full_names=True)"
   ]
  },
  {
   "cell_type": "markdown",
   "id": "0fddb2a3",
   "metadata": {},
   "source": [
    "# Specifying the joint probability distribution via conditional probabilities\n",
    "\n",
    "Thus far we've looked at Bayes nets as graphs, focusing on the nodes and the dependencies between nodes. The tricky bit of a Bayes net is how to succinctly and efficiently represent and work with the conditional probabilities. We can use a CSV format to specify the key information, which we have done for the key examples in data/conditional_probabilities_alarm.csv.\n",
    "\n",
    "We read these into a Pandas data-frame: "
   ]
  },
  {
   "cell_type": "code",
   "execution_count": 948,
   "id": "65f7734a",
   "metadata": {
    "ExecuteTime": {
     "end_time": "2023-12-06T23:45:20.955319Z",
     "start_time": "2023-12-06T23:45:20.917638Z"
    }
   },
   "outputs": [
    {
     "data": {
      "text/html": [
       "<div>\n",
       "<style scoped>\n",
       "    .dataframe tbody tr th:only-of-type {\n",
       "        vertical-align: middle;\n",
       "    }\n",
       "\n",
       "    .dataframe tbody tr th {\n",
       "        vertical-align: top;\n",
       "    }\n",
       "\n",
       "    .dataframe thead th {\n",
       "        text-align: right;\n",
       "    }\n",
       "</style>\n",
       "<table border=\"1\" class=\"dataframe\">\n",
       "  <thead>\n",
       "    <tr style=\"text-align: right;\">\n",
       "      <th></th>\n",
       "      <th>node</th>\n",
       "      <th>p</th>\n",
       "      <th>conditionals</th>\n",
       "    </tr>\n",
       "  </thead>\n",
       "  <tbody>\n",
       "    <tr>\n",
       "      <th>0</th>\n",
       "      <td>B</td>\n",
       "      <td>0.001</td>\n",
       "      <td>None</td>\n",
       "    </tr>\n",
       "    <tr>\n",
       "      <th>1</th>\n",
       "      <td>E</td>\n",
       "      <td>0.002</td>\n",
       "      <td>None</td>\n",
       "    </tr>\n",
       "    <tr>\n",
       "      <th>2</th>\n",
       "      <td>A</td>\n",
       "      <td>0.950</td>\n",
       "      <td>B=1;E=1</td>\n",
       "    </tr>\n",
       "    <tr>\n",
       "      <th>3</th>\n",
       "      <td>A</td>\n",
       "      <td>0.940</td>\n",
       "      <td>B=1;E=0</td>\n",
       "    </tr>\n",
       "    <tr>\n",
       "      <th>4</th>\n",
       "      <td>A</td>\n",
       "      <td>0.290</td>\n",
       "      <td>B=0;E=1</td>\n",
       "    </tr>\n",
       "    <tr>\n",
       "      <th>5</th>\n",
       "      <td>A</td>\n",
       "      <td>0.001</td>\n",
       "      <td>B=0;E=0</td>\n",
       "    </tr>\n",
       "    <tr>\n",
       "      <th>6</th>\n",
       "      <td>J</td>\n",
       "      <td>0.900</td>\n",
       "      <td>A=1</td>\n",
       "    </tr>\n",
       "    <tr>\n",
       "      <th>7</th>\n",
       "      <td>J</td>\n",
       "      <td>0.050</td>\n",
       "      <td>A=0</td>\n",
       "    </tr>\n",
       "    <tr>\n",
       "      <th>8</th>\n",
       "      <td>M</td>\n",
       "      <td>0.700</td>\n",
       "      <td>A=1</td>\n",
       "    </tr>\n",
       "    <tr>\n",
       "      <th>9</th>\n",
       "      <td>M</td>\n",
       "      <td>0.010</td>\n",
       "      <td>A=0</td>\n",
       "    </tr>\n",
       "  </tbody>\n",
       "</table>\n",
       "</div>"
      ],
      "text/plain": [
       "  node      p conditionals\n",
       "0    B  0.001         None\n",
       "1    E  0.002         None\n",
       "2    A  0.950      B=1;E=1\n",
       "3    A  0.940      B=1;E=0\n",
       "4    A  0.290      B=0;E=1\n",
       "5    A  0.001      B=0;E=0\n",
       "6    J  0.900          A=1\n",
       "7    J  0.050          A=0\n",
       "8    M  0.700          A=1\n",
       "9    M  0.010          A=0"
      ]
     },
     "execution_count": 948,
     "metadata": {},
     "output_type": "execute_result"
    }
   ],
   "source": [
    "import pandas as pd\n",
    "with open('../data/conditional_probabilities_alarm.csv', 'r') as f:\n",
    "    conditional_probabilities_df_alarm = pd.read_csv(f)\n",
    "\n",
    "conditional_probabilities_df_alarm"
   ]
  },
  {
   "cell_type": "markdown",
   "id": "3f79fd00",
   "metadata": {},
   "source": [
    "Each distribution is specified on one row. For independent nodes - B & E - there is no conditioning, hence one line defines the complete and unconditional probability. A requires four rows, since it has two parent nodes, each of which can take two values. J and M each have one parent, so require two rows.\n",
    "\n",
    "We have given minimal info thus far, and each row is implicitly a Bernoulli distribution, with the probability corresponding to the parameter generally taken as p. For the moment we will assume Bernoulli distributions, and examine later how we can generalise this."
   ]
  },
  {
   "cell_type": "markdown",
   "id": "97abefc0",
   "metadata": {},
   "source": [
    "# Simulating a Bayes net\n",
    "\n",
    "This functionality is generally in line with the proof-of-concept Excel model. If you haven't seen that, it may be useful to take a look as that gives decent intuition into how and why the simulation functionality is set out."
   ]
  },
  {
   "cell_type": "markdown",
   "id": "683c2e0c",
   "metadata": {},
   "source": [
    "## Random numbers"
   ]
  },
  {
   "cell_type": "code",
   "execution_count": 949,
   "id": "e75281ac",
   "metadata": {
    "ExecuteTime": {
     "end_time": "2023-12-06T23:45:21.219386Z",
     "start_time": "2023-12-06T23:45:20.955319Z"
    }
   },
   "outputs": [
    {
     "data": {
      "text/html": [
       "<div>\n",
       "<style scoped>\n",
       "    .dataframe tbody tr th:only-of-type {\n",
       "        vertical-align: middle;\n",
       "    }\n",
       "\n",
       "    .dataframe tbody tr th {\n",
       "        vertical-align: top;\n",
       "    }\n",
       "\n",
       "    .dataframe thead th {\n",
       "        text-align: right;\n",
       "    }\n",
       "</style>\n",
       "<table border=\"1\" class=\"dataframe\">\n",
       "  <thead>\n",
       "    <tr style=\"text-align: right;\">\n",
       "      <th></th>\n",
       "      <th>B</th>\n",
       "      <th>E</th>\n",
       "      <th>A</th>\n",
       "      <th>M</th>\n",
       "      <th>J</th>\n",
       "    </tr>\n",
       "  </thead>\n",
       "  <tbody>\n",
       "    <tr>\n",
       "      <th>0</th>\n",
       "      <td>0.946102</td>\n",
       "      <td>0.578330</td>\n",
       "      <td>0.741226</td>\n",
       "      <td>0.365127</td>\n",
       "      <td>0.833227</td>\n",
       "    </tr>\n",
       "    <tr>\n",
       "      <th>1</th>\n",
       "      <td>0.998269</td>\n",
       "      <td>0.157830</td>\n",
       "      <td>0.723855</td>\n",
       "      <td>0.279586</td>\n",
       "      <td>0.861028</td>\n",
       "    </tr>\n",
       "    <tr>\n",
       "      <th>2</th>\n",
       "      <td>0.537858</td>\n",
       "      <td>0.691179</td>\n",
       "      <td>0.728596</td>\n",
       "      <td>0.346864</td>\n",
       "      <td>0.346127</td>\n",
       "    </tr>\n",
       "    <tr>\n",
       "      <th>3</th>\n",
       "      <td>0.420817</td>\n",
       "      <td>0.045270</td>\n",
       "      <td>0.658436</td>\n",
       "      <td>0.841218</td>\n",
       "      <td>0.978299</td>\n",
       "    </tr>\n",
       "    <tr>\n",
       "      <th>4</th>\n",
       "      <td>0.762577</td>\n",
       "      <td>0.817734</td>\n",
       "      <td>0.442690</td>\n",
       "      <td>0.748229</td>\n",
       "      <td>0.558408</td>\n",
       "    </tr>\n",
       "  </tbody>\n",
       "</table>\n",
       "</div>"
      ],
      "text/plain": [
       "          B         E         A         M         J\n",
       "0  0.946102  0.578330  0.741226  0.365127  0.833227\n",
       "1  0.998269  0.157830  0.723855  0.279586  0.861028\n",
       "2  0.537858  0.691179  0.728596  0.346864  0.346127\n",
       "3  0.420817  0.045270  0.658436  0.841218  0.978299\n",
       "4  0.762577  0.817734  0.442690  0.748229  0.558408"
      ]
     },
     "execution_count": 949,
     "metadata": {},
     "output_type": "execute_result"
    }
   ],
   "source": [
    "with open('../excel/fixed_random_numbers_100k.csv', 'r') as f:\n",
    "    random_numbers = pd.read_csv(f)\n",
    "N = random_numbers.shape[0]\n",
    "\n",
    "random_numbers = 1 - random_numbers  # to align Excel and ppf\n",
    "random_numbers.head()"
   ]
  },
  {
   "cell_type": "markdown",
   "id": "479b27f6",
   "metadata": {},
   "source": [
    "## Representing conditional distributions"
   ]
  },
  {
   "cell_type": "code",
   "execution_count": 950,
   "id": "c6c9a412",
   "metadata": {
    "ExecuteTime": {
     "end_time": "2023-12-06T23:45:21.235391Z",
     "start_time": "2023-12-06T23:45:21.219386Z"
    }
   },
   "outputs": [],
   "source": [
    "from typing import Optional, List, Callable, Tuple\n",
    "\n",
    "\n",
    "@dataclass\n",
    "class ConditionalDistribution:\n",
    "    \"\"\"Class for representing a conditional distribution.\"\"\"\n",
    "    conditionals: Optional[List[Tuple[str, int]]]\n",
    "#     parameters: Tuple[str, float]\n",
    "    ppf: Callable"
   ]
  },
  {
   "cell_type": "code",
   "execution_count": 951,
   "id": "34ba3b50",
   "metadata": {
    "ExecuteTime": {
     "end_time": "2023-12-06T23:45:21.267396Z",
     "start_time": "2023-12-06T23:45:21.235391Z"
    }
   },
   "outputs": [],
   "source": [
    "from scipy.stats import bernoulli\n",
    "\n",
    "conditional_distributions = {\n",
    "    'B': [\n",
    "        ConditionalDistribution(conditionals=None,\n",
    "                                ppf=lambda x:\n",
    "                                (bernoulli.ppf(x, p=0.001)).astype(int))\n",
    "    ],\n",
    "    'E': [\n",
    "        ConditionalDistribution(conditionals=None,\n",
    "                                ppf=lambda x:\n",
    "                                (bernoulli.ppf(x, p=0.002)).astype(int))\n",
    "    ],\n",
    "    'A': [\n",
    "        ConditionalDistribution(conditionals=[('B', 0), ('E', 0)],\n",
    "                                ppf=lambda x:\n",
    "                                (bernoulli.ppf(x, p=0.001)).astype(int)),\n",
    "        ConditionalDistribution(conditionals=[('B', 0), ('E', 1)],\n",
    "                                ppf=lambda x:\n",
    "                                (bernoulli.ppf(x, p=0.29)).astype(int)),\n",
    "        ConditionalDistribution(conditionals=[('B', 1), ('E', 0)],\n",
    "                                ppf=lambda x:\n",
    "                                (bernoulli.ppf(x, p=0.94)).astype(int)),\n",
    "        ConditionalDistribution(conditionals=[('B', 1), ('E', 1)],\n",
    "                                ppf=lambda x:\n",
    "                                (bernoulli.ppf(x, p=0.95)).astype(int))\n",
    "    ],\n",
    "    'M': [\n",
    "        ConditionalDistribution(conditionals=[('A', 0)],\n",
    "                                ppf=lambda x:\n",
    "                                (bernoulli.ppf(x, p=0.01)).astype(int)),\n",
    "        ConditionalDistribution(conditionals=[('A', 1)],\n",
    "                                ppf=lambda x:\n",
    "                                (bernoulli.ppf(x, p=0.7)).astype(int))\n",
    "    ],\n",
    "    'J': [\n",
    "        ConditionalDistribution(conditionals=[('A', 0)],\n",
    "                                ppf=lambda x:\n",
    "                                (bernoulli.ppf(x, p=0.05)).astype(int)),\n",
    "        ConditionalDistribution(conditionals=[('A', 1)],\n",
    "                                ppf=lambda x:\n",
    "                                (bernoulli.ppf(x, p=0.9)).astype(int))\n",
    "    ]\n",
    "}"
   ]
  },
  {
   "cell_type": "markdown",
   "id": "ccd45be5",
   "metadata": {},
   "source": [
    "## Ordering the simulation of variables\n",
    "\n",
    "Intuitively we know how to simulate the nodes in the alarm network: B and E followed by A, then M and J. With this ordering we know the conditional variable values as required when we get to a node with parents. In general, especially for larger networks, we cannot do this by hand. \n",
    "\n",
    "The function below creates a valid ordering by inserting nodes one at a time, and ordering them relative to any parents and/or dependencies already in the list. May be a better way to do this....! "
   ]
  },
  {
   "cell_type": "code",
   "execution_count": 952,
   "id": "f40e63cd",
   "metadata": {
    "ExecuteTime": {
     "end_time": "2023-12-06T23:45:21.283420Z",
     "start_time": "2023-12-06T23:45:21.267396Z"
    }
   },
   "outputs": [],
   "source": [
    "def generate_simulation_order(bn: BayesNet):\n",
    "\n",
    "    nodes_to_add = bn.all_nodes.copy()\n",
    "    num_nodes = len(nodes_to_add)\n",
    "    nodes_to_simulate = []\n",
    "\n",
    "    while nodes_to_add:\n",
    "        node = nodes_to_add.pop()\n",
    "        parents = bn.parents.get(node, None)\n",
    "\n",
    "        # insert one beyond last parent, using -1 as index for no parents (or no parents in list)\n",
    "        if parents is not None:\n",
    "            parents_in_list = [\n",
    "                nodes_to_simulate.index(p) if p in nodes_to_simulate else -1\n",
    "                for p in parents\n",
    "            ]\n",
    "            max_parent = max(parents_in_list)\n",
    "        else:\n",
    "            max_parent = -1\n",
    "\n",
    "        nodes_to_simulate.insert(max_parent + 1, node)\n",
    "\n",
    "    return nodes_to_simulate"
   ]
  },
  {
   "cell_type": "markdown",
   "id": "45173b43",
   "metadata": {},
   "source": [
    "We can check this gives a valid ordering for the alarm problem. We can interchage B and E in the first two slots, and M and J in the last two slots."
   ]
  },
  {
   "cell_type": "code",
   "execution_count": 953,
   "id": "5214a82e",
   "metadata": {
    "ExecuteTime": {
     "end_time": "2023-12-06T23:45:21.299425Z",
     "start_time": "2023-12-06T23:45:21.283420Z"
    }
   },
   "outputs": [
    {
     "data": {
      "text/plain": [
       "['E', 'B', 'A', 'J', 'M']"
      ]
     },
     "execution_count": 953,
     "metadata": {},
     "output_type": "execute_result"
    }
   ],
   "source": [
    "simulation_order = generate_simulation_order(bayesnet_alarm)\n",
    "simulation_order"
   ]
  },
  {
   "cell_type": "markdown",
   "id": "05b5cbf2",
   "metadata": {},
   "source": [
    "## Simulating independent variables\n",
    "\n",
    "Independent variables can be simulated directly. We use the percentile-point function - or ppf - of the object to map the random number input into random variates of 1 and 0; these represent instances of where the variable has (1) or has not occurred (0).\n",
    "\n",
    "We can demo this for the variables B and E. Starting with an empty dataframe, we iterate over the independent variables and join the output into a single dataframe."
   ]
  },
  {
   "cell_type": "code",
   "execution_count": 954,
   "id": "38ccf990",
   "metadata": {
    "ExecuteTime": {
     "end_time": "2023-12-06T23:45:21.531465Z",
     "start_time": "2023-12-06T23:45:21.299425Z"
    }
   },
   "outputs": [
    {
     "data": {
      "text/html": [
       "<div>\n",
       "<style scoped>\n",
       "    .dataframe tbody tr th:only-of-type {\n",
       "        vertical-align: middle;\n",
       "    }\n",
       "\n",
       "    .dataframe tbody tr th {\n",
       "        vertical-align: top;\n",
       "    }\n",
       "\n",
       "    .dataframe thead th {\n",
       "        text-align: right;\n",
       "    }\n",
       "</style>\n",
       "<table border=\"1\" class=\"dataframe\">\n",
       "  <thead>\n",
       "    <tr style=\"text-align: right;\">\n",
       "      <th></th>\n",
       "      <th>B</th>\n",
       "      <th>E</th>\n",
       "    </tr>\n",
       "  </thead>\n",
       "  <tbody>\n",
       "    <tr>\n",
       "      <th>0</th>\n",
       "      <td>0</td>\n",
       "      <td>0</td>\n",
       "    </tr>\n",
       "    <tr>\n",
       "      <th>1</th>\n",
       "      <td>0</td>\n",
       "      <td>0</td>\n",
       "    </tr>\n",
       "    <tr>\n",
       "      <th>2</th>\n",
       "      <td>0</td>\n",
       "      <td>0</td>\n",
       "    </tr>\n",
       "    <tr>\n",
       "      <th>3</th>\n",
       "      <td>0</td>\n",
       "      <td>0</td>\n",
       "    </tr>\n",
       "    <tr>\n",
       "      <th>4</th>\n",
       "      <td>0</td>\n",
       "      <td>0</td>\n",
       "    </tr>\n",
       "    <tr>\n",
       "      <th>...</th>\n",
       "      <td>...</td>\n",
       "      <td>...</td>\n",
       "    </tr>\n",
       "    <tr>\n",
       "      <th>99995</th>\n",
       "      <td>0</td>\n",
       "      <td>0</td>\n",
       "    </tr>\n",
       "    <tr>\n",
       "      <th>99996</th>\n",
       "      <td>0</td>\n",
       "      <td>0</td>\n",
       "    </tr>\n",
       "    <tr>\n",
       "      <th>99997</th>\n",
       "      <td>0</td>\n",
       "      <td>0</td>\n",
       "    </tr>\n",
       "    <tr>\n",
       "      <th>99998</th>\n",
       "      <td>0</td>\n",
       "      <td>0</td>\n",
       "    </tr>\n",
       "    <tr>\n",
       "      <th>99999</th>\n",
       "      <td>0</td>\n",
       "      <td>0</td>\n",
       "    </tr>\n",
       "  </tbody>\n",
       "</table>\n",
       "<p>100000 rows × 2 columns</p>\n",
       "</div>"
      ],
      "text/plain": [
       "       B  E\n",
       "0      0  0\n",
       "1      0  0\n",
       "2      0  0\n",
       "3      0  0\n",
       "4      0  0\n",
       "...   .. ..\n",
       "99995  0  0\n",
       "99996  0  0\n",
       "99997  0  0\n",
       "99998  0  0\n",
       "99999  0  0\n",
       "\n",
       "[100000 rows x 2 columns]"
      ]
     },
     "execution_count": 954,
     "metadata": {},
     "output_type": "execute_result"
    }
   ],
   "source": [
    "random_variates = pd.DataFrame()\n",
    "for var in ['B', 'E']:\n",
    "    if len(conditional_distributions[var]) == 1:\n",
    "        # no condtionals, append to existing output\n",
    "        random_variates = pd.concat([\n",
    "            random_variates,\n",
    "            pd.DataFrame({\n",
    "                var:\n",
    "                conditional_distributions[var][0].ppf(random_numbers[var])\n",
    "            })\n",
    "        ],\n",
    "            axis=1)\n",
    "    else:\n",
    "        # to be defined\n",
    "        pass\n",
    "\n",
    "random_variates"
   ]
  },
  {
   "cell_type": "markdown",
   "id": "387adeed",
   "metadata": {},
   "source": [
    "Due to the low probabilities that a burglary or earthquake occurs, the arrays are mostly zeros. We can sense check that the results are correct by summing the arrays. Given probabilities of 0.1% and 0.2%, respectively, for burglaries and earthquakes, we would expect sums of close to 10 and 20."
   ]
  },
  {
   "cell_type": "code",
   "execution_count": 955,
   "id": "ab519c9a",
   "metadata": {
    "ExecuteTime": {
     "end_time": "2023-12-06T23:45:21.555474Z",
     "start_time": "2023-12-06T23:45:21.531465Z"
    }
   },
   "outputs": [
    {
     "data": {
      "text/plain": [
       "B     91\n",
       "E    194\n",
       "dtype: int64"
      ]
     },
     "execution_count": 955,
     "metadata": {},
     "output_type": "execute_result"
    }
   ],
   "source": [
    "random_variates.sum()"
   ]
  },
  {
   "cell_type": "markdown",
   "id": "0def9d67",
   "metadata": {},
   "source": [
    "## Simulating conditional variables\n",
    "\n",
    "Simulating conditional variables is a little more involved. We apply a two step approach, where we simluate conditional distributions as we did for the independent variables, but also use simulate the actual events. The latter requires the random variates constructed to date. \n",
    "\n",
    "We will demo this with the alarm variable, A."
   ]
  },
  {
   "cell_type": "code",
   "execution_count": 956,
   "id": "8159db96",
   "metadata": {
    "ExecuteTime": {
     "end_time": "2023-12-06T23:45:21.571477Z",
     "start_time": "2023-12-06T23:45:21.555474Z"
    }
   },
   "outputs": [],
   "source": [
    "var = 'A'"
   ]
  },
  {
   "cell_type": "markdown",
   "id": "c8ce17d5",
   "metadata": {},
   "source": [
    "### Conditional random variates\n",
    "\n",
    "Create a Pandas dataframe for each conditional distribution, using the list of conditionals as the column keys. There are lots of 1s, which indicate the alarm going off, but these are contingent on one or both of a burglary or earthquake occurring. "
   ]
  },
  {
   "cell_type": "code",
   "execution_count": 957,
   "id": "9840f8c8",
   "metadata": {
    "ExecuteTime": {
     "end_time": "2023-12-06T23:45:23.067858Z",
     "start_time": "2023-12-06T23:45:21.571477Z"
    }
   },
   "outputs": [
    {
     "data": {
      "text/html": [
       "<div>\n",
       "<style scoped>\n",
       "    .dataframe tbody tr th:only-of-type {\n",
       "        vertical-align: middle;\n",
       "    }\n",
       "\n",
       "    .dataframe tbody tr th {\n",
       "        vertical-align: top;\n",
       "    }\n",
       "\n",
       "    .dataframe thead th {\n",
       "        text-align: right;\n",
       "    }\n",
       "</style>\n",
       "<table border=\"1\" class=\"dataframe\">\n",
       "  <thead>\n",
       "    <tr style=\"text-align: right;\">\n",
       "      <th></th>\n",
       "      <th>[('B', 0), ('E', 0)]</th>\n",
       "      <th>[('B', 0), ('E', 1)]</th>\n",
       "      <th>[('B', 1), ('E', 0)]</th>\n",
       "      <th>[('B', 1), ('E', 1)]</th>\n",
       "    </tr>\n",
       "  </thead>\n",
       "  <tbody>\n",
       "    <tr>\n",
       "      <th>0</th>\n",
       "      <td>0</td>\n",
       "      <td>1</td>\n",
       "      <td>1</td>\n",
       "      <td>1</td>\n",
       "    </tr>\n",
       "    <tr>\n",
       "      <th>1</th>\n",
       "      <td>0</td>\n",
       "      <td>1</td>\n",
       "      <td>1</td>\n",
       "      <td>1</td>\n",
       "    </tr>\n",
       "    <tr>\n",
       "      <th>2</th>\n",
       "      <td>0</td>\n",
       "      <td>1</td>\n",
       "      <td>1</td>\n",
       "      <td>1</td>\n",
       "    </tr>\n",
       "    <tr>\n",
       "      <th>3</th>\n",
       "      <td>0</td>\n",
       "      <td>0</td>\n",
       "      <td>1</td>\n",
       "      <td>1</td>\n",
       "    </tr>\n",
       "    <tr>\n",
       "      <th>4</th>\n",
       "      <td>0</td>\n",
       "      <td>0</td>\n",
       "      <td>1</td>\n",
       "      <td>1</td>\n",
       "    </tr>\n",
       "    <tr>\n",
       "      <th>...</th>\n",
       "      <td>...</td>\n",
       "      <td>...</td>\n",
       "      <td>...</td>\n",
       "      <td>...</td>\n",
       "    </tr>\n",
       "    <tr>\n",
       "      <th>99995</th>\n",
       "      <td>0</td>\n",
       "      <td>0</td>\n",
       "      <td>1</td>\n",
       "      <td>1</td>\n",
       "    </tr>\n",
       "    <tr>\n",
       "      <th>99996</th>\n",
       "      <td>0</td>\n",
       "      <td>0</td>\n",
       "      <td>1</td>\n",
       "      <td>1</td>\n",
       "    </tr>\n",
       "    <tr>\n",
       "      <th>99997</th>\n",
       "      <td>0</td>\n",
       "      <td>0</td>\n",
       "      <td>1</td>\n",
       "      <td>1</td>\n",
       "    </tr>\n",
       "    <tr>\n",
       "      <th>99998</th>\n",
       "      <td>0</td>\n",
       "      <td>0</td>\n",
       "      <td>1</td>\n",
       "      <td>1</td>\n",
       "    </tr>\n",
       "    <tr>\n",
       "      <th>99999</th>\n",
       "      <td>0</td>\n",
       "      <td>1</td>\n",
       "      <td>1</td>\n",
       "      <td>1</td>\n",
       "    </tr>\n",
       "  </tbody>\n",
       "</table>\n",
       "<p>100000 rows × 4 columns</p>\n",
       "</div>"
      ],
      "text/plain": [
       "       [('B', 0), ('E', 0)]  [('B', 0), ('E', 1)]  [('B', 1), ('E', 0)]  \\\n",
       "0                         0                     1                     1   \n",
       "1                         0                     1                     1   \n",
       "2                         0                     1                     1   \n",
       "3                         0                     0                     1   \n",
       "4                         0                     0                     1   \n",
       "...                     ...                   ...                   ...   \n",
       "99995                     0                     0                     1   \n",
       "99996                     0                     0                     1   \n",
       "99997                     0                     0                     1   \n",
       "99998                     0                     0                     1   \n",
       "99999                     0                     1                     1   \n",
       "\n",
       "       [('B', 1), ('E', 1)]  \n",
       "0                         1  \n",
       "1                         1  \n",
       "2                         1  \n",
       "3                         1  \n",
       "4                         1  \n",
       "...                     ...  \n",
       "99995                     1  \n",
       "99996                     1  \n",
       "99997                     1  \n",
       "99998                     1  \n",
       "99999                     1  \n",
       "\n",
       "[100000 rows x 4 columns]"
      ]
     },
     "execution_count": 957,
     "metadata": {},
     "output_type": "execute_result"
    }
   ],
   "source": [
    "conditional_random_variates = pd.concat([\n",
    "    pd.DataFrame({str(cd.conditionals): cd.ppf(random_numbers[var])})\n",
    "    for cd in conditional_distributions[var]\n",
    "],\n",
    "    axis=1)\n",
    "\n",
    "conditional_random_variates"
   ]
  },
  {
   "cell_type": "code",
   "execution_count": 958,
   "id": "f28deadb",
   "metadata": {
    "ExecuteTime": {
     "end_time": "2023-12-06T23:45:23.083865Z",
     "start_time": "2023-12-06T23:45:23.067858Z"
    }
   },
   "outputs": [
    {
     "data": {
      "text/plain": [
       "[('B', 0), ('E', 0)]      107\n",
       "[('B', 0), ('E', 1)]    29109\n",
       "[('B', 1), ('E', 0)]    94086\n",
       "[('B', 1), ('E', 1)]    95103\n",
       "dtype: int64"
      ]
     },
     "execution_count": 958,
     "metadata": {},
     "output_type": "execute_result"
    }
   ],
   "source": [
    "conditional_random_variates.sum()\n",
    "# conditional_random_variates.to_clipboard()"
   ]
  },
  {
   "cell_type": "markdown",
   "id": "22da39e9",
   "metadata": {},
   "source": [
    "### Actual events\n",
    "\n",
    "Use the same format - a Pandas dataframe with the conditionals as column keys - to create the array of actual events. This is again a series of 1s and 0s, but these represent whether a conditional event has occurred. e.g. whether there has been no burglary and no earthquake.\n",
    "\n",
    "For this purpose we first define a separate function to generate the actual events."
   ]
  },
  {
   "cell_type": "code",
   "execution_count": 959,
   "id": "67fac404",
   "metadata": {
    "ExecuteTime": {
     "end_time": "2023-12-06T23:45:23.115889Z",
     "start_time": "2023-12-06T23:45:23.083865Z"
    }
   },
   "outputs": [],
   "source": [
    "def generate_actual_events(conditionals: List[Tuple[str, int]],\n",
    "                           random_variates: pd.DataFrame) -> np.array:\n",
    "    \"\"\"\n",
    "    Given a list of conditional (variable, value) pairs and a dataframe of random variates (1s and 0s),\n",
    "    this function generates flags for whether the conditional is met\n",
    "    e.g. given [('B', 0),('E', 0)], the return value is 1 where B and E are 0, and 0 elsewhere.\n",
    "\n",
    "    Return Numpy array of 1s and 0s.\n",
    "    \"\"\"\n",
    "    number_conditionals = len(conditionals)\n",
    "    number_variates = random_variates.shape[0]\n",
    "    outcomes = np.zeros((number_variates, number_conditionals)).astype(int)\n",
    "    for i, (variable, value) in enumerate(conditionals):\n",
    "        outcomes[:, i] = (random_variates[variable] == value) * 1\n",
    "\n",
    "    return np.product(outcomes, axis=1)\n",
    "\n",
    "\n",
    "assert np.all(\n",
    "    generate_actual_events(conditionals=[('B', 0), ('E', 0)],\n",
    "                           random_variates=pd.DataFrame({\n",
    "                               'B': [0, 0, 1, 1],\n",
    "                               'E': [0, 1, 0, 1]\n",
    "                           })) == np.array([1, 0, 0, 0]))"
   ]
  },
  {
   "cell_type": "markdown",
   "id": "9a929166",
   "metadata": {},
   "source": [
    "Now apply the same pattern as before."
   ]
  },
  {
   "cell_type": "code",
   "execution_count": 960,
   "id": "969ec56d",
   "metadata": {
    "ExecuteTime": {
     "end_time": "2023-12-06T23:45:23.179915Z",
     "start_time": "2023-12-06T23:45:23.115889Z"
    }
   },
   "outputs": [
    {
     "data": {
      "text/html": [
       "<div>\n",
       "<style scoped>\n",
       "    .dataframe tbody tr th:only-of-type {\n",
       "        vertical-align: middle;\n",
       "    }\n",
       "\n",
       "    .dataframe tbody tr th {\n",
       "        vertical-align: top;\n",
       "    }\n",
       "\n",
       "    .dataframe thead th {\n",
       "        text-align: right;\n",
       "    }\n",
       "</style>\n",
       "<table border=\"1\" class=\"dataframe\">\n",
       "  <thead>\n",
       "    <tr style=\"text-align: right;\">\n",
       "      <th></th>\n",
       "      <th>[('B', 0), ('E', 0)]</th>\n",
       "      <th>[('B', 0), ('E', 1)]</th>\n",
       "      <th>[('B', 1), ('E', 0)]</th>\n",
       "      <th>[('B', 1), ('E', 1)]</th>\n",
       "    </tr>\n",
       "  </thead>\n",
       "  <tbody>\n",
       "    <tr>\n",
       "      <th>0</th>\n",
       "      <td>1</td>\n",
       "      <td>0</td>\n",
       "      <td>0</td>\n",
       "      <td>0</td>\n",
       "    </tr>\n",
       "    <tr>\n",
       "      <th>1</th>\n",
       "      <td>1</td>\n",
       "      <td>0</td>\n",
       "      <td>0</td>\n",
       "      <td>0</td>\n",
       "    </tr>\n",
       "    <tr>\n",
       "      <th>2</th>\n",
       "      <td>1</td>\n",
       "      <td>0</td>\n",
       "      <td>0</td>\n",
       "      <td>0</td>\n",
       "    </tr>\n",
       "    <tr>\n",
       "      <th>3</th>\n",
       "      <td>1</td>\n",
       "      <td>0</td>\n",
       "      <td>0</td>\n",
       "      <td>0</td>\n",
       "    </tr>\n",
       "    <tr>\n",
       "      <th>4</th>\n",
       "      <td>1</td>\n",
       "      <td>0</td>\n",
       "      <td>0</td>\n",
       "      <td>0</td>\n",
       "    </tr>\n",
       "    <tr>\n",
       "      <th>...</th>\n",
       "      <td>...</td>\n",
       "      <td>...</td>\n",
       "      <td>...</td>\n",
       "      <td>...</td>\n",
       "    </tr>\n",
       "    <tr>\n",
       "      <th>99995</th>\n",
       "      <td>1</td>\n",
       "      <td>0</td>\n",
       "      <td>0</td>\n",
       "      <td>0</td>\n",
       "    </tr>\n",
       "    <tr>\n",
       "      <th>99996</th>\n",
       "      <td>1</td>\n",
       "      <td>0</td>\n",
       "      <td>0</td>\n",
       "      <td>0</td>\n",
       "    </tr>\n",
       "    <tr>\n",
       "      <th>99997</th>\n",
       "      <td>1</td>\n",
       "      <td>0</td>\n",
       "      <td>0</td>\n",
       "      <td>0</td>\n",
       "    </tr>\n",
       "    <tr>\n",
       "      <th>99998</th>\n",
       "      <td>1</td>\n",
       "      <td>0</td>\n",
       "      <td>0</td>\n",
       "      <td>0</td>\n",
       "    </tr>\n",
       "    <tr>\n",
       "      <th>99999</th>\n",
       "      <td>1</td>\n",
       "      <td>0</td>\n",
       "      <td>0</td>\n",
       "      <td>0</td>\n",
       "    </tr>\n",
       "  </tbody>\n",
       "</table>\n",
       "<p>100000 rows × 4 columns</p>\n",
       "</div>"
      ],
      "text/plain": [
       "       [('B', 0), ('E', 0)]  [('B', 0), ('E', 1)]  [('B', 1), ('E', 0)]  \\\n",
       "0                         1                     0                     0   \n",
       "1                         1                     0                     0   \n",
       "2                         1                     0                     0   \n",
       "3                         1                     0                     0   \n",
       "4                         1                     0                     0   \n",
       "...                     ...                   ...                   ...   \n",
       "99995                     1                     0                     0   \n",
       "99996                     1                     0                     0   \n",
       "99997                     1                     0                     0   \n",
       "99998                     1                     0                     0   \n",
       "99999                     1                     0                     0   \n",
       "\n",
       "       [('B', 1), ('E', 1)]  \n",
       "0                         0  \n",
       "1                         0  \n",
       "2                         0  \n",
       "3                         0  \n",
       "4                         0  \n",
       "...                     ...  \n",
       "99995                     0  \n",
       "99996                     0  \n",
       "99997                     0  \n",
       "99998                     0  \n",
       "99999                     0  \n",
       "\n",
       "[100000 rows x 4 columns]"
      ]
     },
     "execution_count": 960,
     "metadata": {},
     "output_type": "execute_result"
    }
   ],
   "source": [
    "actual_events = pd.concat([\n",
    "    pd.DataFrame({\n",
    "        str(cd.conditionals):\n",
    "        generate_actual_events(cd.conditionals, random_variates)\n",
    "    }) for cd in conditional_distributions[var]\n",
    "],\n",
    "    axis=1)\n",
    "\n",
    "actual_events"
   ]
  },
  {
   "cell_type": "markdown",
   "id": "147649c6",
   "metadata": {},
   "source": [
    "The count of actual events is another sense check. 99.7% of the time there is no burglary or earthquake."
   ]
  },
  {
   "cell_type": "code",
   "execution_count": 961,
   "id": "ab1e5dde",
   "metadata": {
    "ExecuteTime": {
     "end_time": "2023-12-06T23:45:23.195906Z",
     "start_time": "2023-12-06T23:45:23.179915Z"
    }
   },
   "outputs": [
    {
     "data": {
      "text/plain": [
       "[('B', 0), ('E', 0)]    99715\n",
       "[('B', 0), ('E', 1)]      194\n",
       "[('B', 1), ('E', 0)]       91\n",
       "[('B', 1), ('E', 1)]        0\n",
       "dtype: int64"
      ]
     },
     "execution_count": 961,
     "metadata": {},
     "output_type": "execute_result"
    }
   ],
   "source": [
    "actual_events.sum()"
   ]
  },
  {
   "cell_type": "markdown",
   "id": "b4153e35",
   "metadata": {},
   "source": [
    "###  Multiply and row-sum\n",
    "\n",
    "The final step is to multiply then row-sum the two dataframes together. Multiplying the two together gives the random variates for the variable, in this case the alarm, A. It is no longer conditional, since the actual events have acted as a filter, by zeroising all but one entry. It can be a little confusing that the entry which is not zeroised, may also be zero.\n",
    "\n",
    "Applying a row-sum returns this as the simulated value for A. We can then join this to the independent random variates already created for B and E."
   ]
  },
  {
   "cell_type": "code",
   "execution_count": 962,
   "id": "dd89eeaf",
   "metadata": {
    "ExecuteTime": {
     "end_time": "2023-12-06T23:45:23.243912Z",
     "start_time": "2023-12-06T23:45:23.195906Z"
    }
   },
   "outputs": [
    {
     "data": {
      "text/plain": [
       "B     91\n",
       "E    194\n",
       "A    250\n",
       "dtype: int64"
      ]
     },
     "execution_count": 962,
     "metadata": {},
     "output_type": "execute_result"
    }
   ],
   "source": [
    "random_variates_A = pd.DataFrame(\n",
    "    {'A': (conditional_random_variates * actual_events).sum(axis=1)})\n",
    "random_variates = pd.concat([random_variates, random_variates_A], axis=1)\n",
    "random_variates.sum()"
   ]
  },
  {
   "cell_type": "markdown",
   "id": "ca9328f6",
   "metadata": {},
   "source": [
    "## Combining independent and conditional variables\n",
    "\n",
    "Now we can simulate both variable types separately."
   ]
  },
  {
   "cell_type": "markdown",
   "id": "0f8392ca",
   "metadata": {},
   "source": []
  },
  {
   "cell_type": "code",
   "execution_count": 963,
   "id": "30547479",
   "metadata": {
    "ExecuteTime": {
     "end_time": "2023-12-06T23:45:26.268693Z",
     "start_time": "2023-12-06T23:45:23.243912Z"
    }
   },
   "outputs": [
    {
     "data": {
      "text/plain": [
       "B      91\n",
       "E     194\n",
       "A     250\n",
       "M    1191\n",
       "J    5120\n",
       "dtype: int64"
      ]
     },
     "execution_count": 963,
     "metadata": {},
     "output_type": "execute_result"
    }
   ],
   "source": [
    "random_variates = pd.DataFrame()\n",
    "for var in ['B', 'E', 'A', 'M', 'J']:\n",
    "    if len(conditional_distributions[var]) == 1:\n",
    "        # no condtionals, append to existing output\n",
    "        random_variates = pd.concat([\n",
    "            random_variates,\n",
    "            pd.DataFrame({\n",
    "                var:\n",
    "                conditional_distributions[var][0].ppf(random_numbers[var])\n",
    "            })\n",
    "        ],\n",
    "            axis=1)\n",
    "    else:\n",
    "        conditional_random_variates = pd.concat([\n",
    "            pd.DataFrame({str(cd.conditionals): cd.ppf(random_numbers[var])})\n",
    "            for cd in conditional_distributions[var]\n",
    "        ],\n",
    "            axis=1)\n",
    "\n",
    "        actual_events = pd.concat([\n",
    "            pd.DataFrame({\n",
    "                str(cd.conditionals):\n",
    "                generate_actual_events(cd.conditionals, random_variates)\n",
    "            }) for cd in conditional_distributions[var]\n",
    "        ],\n",
    "            axis=1)\n",
    "\n",
    "        random_variates = pd.concat([\n",
    "            random_variates,\n",
    "            pd.DataFrame({\n",
    "                var: (conditional_random_variates * actual_events).sum(axis=1)\n",
    "            })\n",
    "        ],\n",
    "            axis=1)\n",
    "\n",
    "random_variates.sum()"
   ]
  },
  {
   "cell_type": "markdown",
   "id": "ff551f9d",
   "metadata": {},
   "source": [
    "### Adding non-events\n",
    "\n",
    "What can be useful to consider is non-events e.g. the event that an earthquake did not happen. Given the random variates output, this is straightforward. "
   ]
  },
  {
   "cell_type": "code",
   "execution_count": 964,
   "id": "5d852892",
   "metadata": {
    "ExecuteTime": {
     "end_time": "2023-12-06T23:45:26.316705Z",
     "start_time": "2023-12-06T23:45:26.268693Z"
    }
   },
   "outputs": [
    {
     "data": {
      "text/plain": [
       "B        91\n",
       "E       194\n",
       "A       250\n",
       "M      1191\n",
       "J      5120\n",
       "¬B    99909\n",
       "¬E    99806\n",
       "¬A    99750\n",
       "¬M    98809\n",
       "¬J    94880\n",
       "dtype: int64"
      ]
     },
     "execution_count": 964,
     "metadata": {},
     "output_type": "execute_result"
    }
   ],
   "source": [
    "random_variates_negation = random_variates.copy()\n",
    "random_variates_negation.columns = [\n",
    "    '¬' + x for x in random_variates_negation.columns\n",
    "]\n",
    "random_variates_negation = 1 - random_variates_negation\n",
    "\n",
    "random_variates = pd.concat([random_variates, random_variates_negation],\n",
    "                            axis=1)\n",
    "random_variates.sum()"
   ]
  },
  {
   "cell_type": "markdown",
   "id": "28dba305",
   "metadata": {},
   "source": [
    "# Interpreting the output from a Bayes network"
   ]
  },
  {
   "cell_type": "markdown",
   "id": "9f4a217e",
   "metadata": {},
   "source": []
  },
  {
   "cell_type": "markdown",
   "id": "6d4f95d7",
   "metadata": {},
   "source": [
    "## Approximating P(X|Y)"
   ]
  },
  {
   "cell_type": "code",
   "execution_count": 965,
   "id": "1302fca2",
   "metadata": {
    "ExecuteTime": {
     "end_time": "2023-12-06T23:45:26.572773Z",
     "start_time": "2023-12-06T23:45:26.316705Z"
    }
   },
   "outputs": [],
   "source": [
    "all_vars = random_variates.columns\n",
    "count_x_and_y = {}\n",
    "count_y = {}\n",
    "for y in all_vars:\n",
    "    count_y[y] = random_variates[y].sum()\n",
    "    for x in all_vars:\n",
    "        count_x_and_y[(x, y)] = (random_variates[x] * random_variates[y]).sum()\n",
    "\n",
    "full_names = {\n",
    "    'B': 'Burglary',\n",
    "    'E': 'Earthquake',\n",
    "    'A': 'Alarm',\n",
    "    'M': 'Mary calls',\n",
    "    'J': 'John Calls',\n",
    "    '¬B': 'No burglary',\n",
    "    '¬E': 'No earthquake',\n",
    "    '¬A': 'No alarm',\n",
    "    '¬M': 'Mary does not call',\n",
    "    '¬J': 'John does not call'\n",
    "}\n",
    "\n",
    "summary_probabilities_df = pd.concat([\n",
    "    pd.DataFrame(\n",
    "        {\n",
    "            'Label': f'P({x}|{y})',\n",
    "            'Event X': full_names[x],\n",
    "            'Event Y': full_names[y],\n",
    "            'Count X & Y': cxy,\n",
    "            'Count Y': count_y[y],\n",
    "            'Estimate for P(X|Y)': cxy / count_y[y]\n",
    "        },\n",
    "        index=[0]) for ((x, y), cxy) in count_x_and_y.items()\n",
    "])\n",
    "\n",
    "summary_probabilities_df.set_index('Label', inplace=True)"
   ]
  },
  {
   "cell_type": "markdown",
   "id": "b3be2862",
   "metadata": {
    "ExecuteTime": {
     "end_time": "2023-12-03T14:21:07.789752Z",
     "start_time": "2023-12-03T14:21:07.775750Z"
    }
   },
   "source": [
    "Should the homeowner be concerned about a burglary or an earthquake if Mary or John call? Not hugely. But what if both neighbours call?"
   ]
  },
  {
   "cell_type": "code",
   "execution_count": 966,
   "id": "0b79108d",
   "metadata": {
    "ExecuteTime": {
     "end_time": "2023-12-06T23:45:26.604762Z",
     "start_time": "2023-12-06T23:45:26.572773Z"
    }
   },
   "outputs": [
    {
     "data": {
      "text/html": [
       "<div>\n",
       "<style scoped>\n",
       "    .dataframe tbody tr th:only-of-type {\n",
       "        vertical-align: middle;\n",
       "    }\n",
       "\n",
       "    .dataframe tbody tr th {\n",
       "        vertical-align: top;\n",
       "    }\n",
       "\n",
       "    .dataframe thead th {\n",
       "        text-align: right;\n",
       "    }\n",
       "</style>\n",
       "<table border=\"1\" class=\"dataframe\">\n",
       "  <thead>\n",
       "    <tr style=\"text-align: right;\">\n",
       "      <th></th>\n",
       "      <th>Event X</th>\n",
       "      <th>Event Y</th>\n",
       "      <th>Count X &amp; Y</th>\n",
       "      <th>Count Y</th>\n",
       "      <th>Estimate for P(X|Y)</th>\n",
       "    </tr>\n",
       "    <tr>\n",
       "      <th>Label</th>\n",
       "      <th></th>\n",
       "      <th></th>\n",
       "      <th></th>\n",
       "      <th></th>\n",
       "      <th></th>\n",
       "    </tr>\n",
       "  </thead>\n",
       "  <tbody>\n",
       "    <tr>\n",
       "      <th>P(B|M)</th>\n",
       "      <td>Burglary</td>\n",
       "      <td>Mary calls</td>\n",
       "      <td>52</td>\n",
       "      <td>1191</td>\n",
       "      <td>0.043661</td>\n",
       "    </tr>\n",
       "    <tr>\n",
       "      <th>P(E|M)</th>\n",
       "      <td>Earthquake</td>\n",
       "      <td>Mary calls</td>\n",
       "      <td>44</td>\n",
       "      <td>1191</td>\n",
       "      <td>0.036944</td>\n",
       "    </tr>\n",
       "    <tr>\n",
       "      <th>P(B|J)</th>\n",
       "      <td>Burglary</td>\n",
       "      <td>John Calls</td>\n",
       "      <td>78</td>\n",
       "      <td>5120</td>\n",
       "      <td>0.015234</td>\n",
       "    </tr>\n",
       "    <tr>\n",
       "      <th>P(E|J)</th>\n",
       "      <td>Earthquake</td>\n",
       "      <td>John Calls</td>\n",
       "      <td>62</td>\n",
       "      <td>5120</td>\n",
       "      <td>0.012109</td>\n",
       "    </tr>\n",
       "  </tbody>\n",
       "</table>\n",
       "</div>"
      ],
      "text/plain": [
       "           Event X     Event Y  Count X & Y  Count Y  Estimate for P(X|Y)\n",
       "Label                                                                    \n",
       "P(B|M)    Burglary  Mary calls           52     1191             0.043661\n",
       "P(E|M)  Earthquake  Mary calls           44     1191             0.036944\n",
       "P(B|J)    Burglary  John Calls           78     5120             0.015234\n",
       "P(E|J)  Earthquake  John Calls           62     5120             0.012109"
      ]
     },
     "execution_count": 966,
     "metadata": {},
     "output_type": "execute_result"
    }
   ],
   "source": [
    "summary_probabilities_df.loc[['P(B|M)', 'P(E|M)', 'P(B|J)', 'P(E|J)'], :]"
   ]
  },
  {
   "cell_type": "markdown",
   "id": "7d38d993",
   "metadata": {},
   "source": [
    "## Generalise to any event combinations\n",
    "\n",
    "The code above generates all X-Y combinations for single variables, including their negations. In general we will also be interested in combinations of events. For the alarm example, the homeowner may be interested in the probability of a burglary given that both Mary and John call.\n",
    "\n",
    "The approach is similar to above, except we specify the events via a list. Using the same terminology as above, we will use X to represent the event that a burglary has occured, and Y as the event that both Mary and John have called. We could also create the combined events into new variables, as we did for negation, then allow the code above to capture all combinations.\n",
    "\n",
    "As the size of the network increases, it may not be possible, or practical, to print every X-Y combination, including negations and pairs, triples or higher. Hence having an easy way to estimate soecific probabilities in a generic manner remains useful. "
   ]
  },
  {
   "cell_type": "code",
   "execution_count": 967,
   "id": "0cd9f0f3",
   "metadata": {
    "ExecuteTime": {
     "end_time": "2023-12-06T23:45:26.644798Z",
     "start_time": "2023-12-06T23:45:26.604762Z"
    }
   },
   "outputs": [
    {
     "name": "stdout",
     "output_type": "stream",
     "text": [
      "Number of times both neighbours call:                          202\n",
      "Number of times both neighbours call, and there is a burglary: 48\n",
      "Estimated probability of burglary given both call:             0.24\n"
     ]
    }
   ],
   "source": [
    "x = ['B']\n",
    "y = ['M', 'J']\n",
    "x_and_y = x + y\n",
    "\n",
    "count_y = np.product(random_variates.loc[:, y], axis=1).sum()\n",
    "count_x_and_y = np.product(random_variates.loc[:, x_and_y], axis=1).sum()\n",
    "\n",
    "print(\n",
    "    f'Number of times both neighbours call:                          {count_y}'\n",
    ")\n",
    "print(\n",
    "    f'Number of times both neighbours call, and there is a burglary: {count_x_and_y}'\n",
    ")\n",
    "print(\n",
    "    f'Estimated probability of burglary given both call:             {count_x_and_y / count_y :.2f}'\n",
    ")"
   ]
  },
  {
   "cell_type": "markdown",
   "id": "8068c187",
   "metadata": {
    "ExecuteTime": {
     "end_time": "2023-12-03T14:24:32.824640Z",
     "start_time": "2023-12-03T14:24:32.808643Z"
    }
   },
   "source": [
    "So still less likely to be a burglary than no burglary, but a greater concern than if only one person has called. We can extemd the extend the functionality further by considering 3 types of groupings:\n",
    "- All events happening\n",
    "- Any events happening\n",
    "- Not any events happening\n",
    "\n",
    "This follows the same approach as above, but we substitute logical Numpy functions in place of np.product, though we do need to re-type the result to an integer. Given the random variate output, this allows the user to estimate any probability, not withstanding any memory or speed issues."
   ]
  },
  {
   "cell_type": "code",
   "execution_count": 968,
   "id": "c455674b",
   "metadata": {
    "ExecuteTime": {
     "end_time": "2023-12-06T23:45:26.684807Z",
     "start_time": "2023-12-06T23:45:26.644798Z"
    }
   },
   "outputs": [
    {
     "name": "stdout",
     "output_type": "stream",
     "text": [
      "155\n",
      "6117\n",
      "93883\n"
     ]
    }
   ],
   "source": [
    "count_A_M_J_all = np.all(random_variates.loc[:, ['A', 'M', 'J']],\n",
    "                         axis=1).astype(int).sum()\n",
    "count_A_M_J_any = np.any(random_variates.loc[:, ['A', 'M', 'J']],\n",
    "                         axis=1).astype(int).sum()\n",
    "count_A_M_J_not_any = np.logical_not(\n",
    "    np.any(random_variates.loc[:, ['A', 'M', 'J']], axis=1)).astype(int).sum()\n",
    "\n",
    "print(count_A_M_J_all)\n",
    "print(count_A_M_J_any)\n",
    "print(count_A_M_J_not_any)"
   ]
  },
  {
   "cell_type": "markdown",
   "id": "88fcecec",
   "metadata": {},
   "source": [
    "# Parsing conditional distributions from CSV input\n",
    "\n",
    "For the alarm network we constructed the conditional probabilities by hand. For the code to be extendable to other problems, we would like the user to be able to specify their own Bayes net via CSV input. We set out what this might look like earlier, and we will now try to parse that input - read into a dataframe - into an equivalent representation to the one we did by hand.\n",
    "\n",
    "Comparing this to the _conditional_distributions_ variable, we can try to do this as follows:\n",
    "- extract the unique nodes\n",
    "- create an dictionary mapping nodes to an initially empty list\n",
    "- parse each row into a _ConditionalDistribution_ object and append to the appropriate variable\n",
    "\n",
    "<!-- As part of this parser, we will also take the opportunity to check that the supplied input is self-consistent. As a reminder, the inputs are:  -->"
   ]
  },
  {
   "cell_type": "code",
   "execution_count": 979,
   "id": "b8ff25f0",
   "metadata": {
    "ExecuteTime": {
     "end_time": "2023-12-06T23:54:53.941031Z",
     "start_time": "2023-12-06T23:54:53.925027Z"
    }
   },
   "outputs": [],
   "source": [
    "def parse_conditional_distributions(conditional_probabilities_df: pd.DataFrame):\n",
    "\n",
    "    unique_nodes = conditional_probabilities_df['node'].unique()\n",
    "    conditional_distributions = {node: [] for node in unique_nodes}\n",
    "\n",
    "    for i, row in conditional_probabilities_df_alarm.iterrows():\n",
    "\n",
    "        node = row['node']\n",
    "        p = row['p']\n",
    "        conditionals = row['conditionals']\n",
    "\n",
    "        if conditionals == 'None':\n",
    "            conditional_distributions[node].append(\n",
    "                ConditionalDistribution(conditionals=None,\n",
    "                                        ppf=lambda x:\n",
    "                                        (bernoulli.ppf(x, p=0.001)).astype(int)))\n",
    "        else:\n",
    "            # parse conditionals into list of tuples\n",
    "            node_value_pairs = conditionals.split(';')\n",
    "            node_value_pairs = [\n",
    "                node_value.split('=') for node_value in node_value_pairs\n",
    "            ]\n",
    "            node_value_pairs = [(node, int(value))\n",
    "                                for node, value in node_value_pairs]\n",
    "            conditional_distributions[node].append(\n",
    "                ConditionalDistribution(conditionals=node_value_pairs,\n",
    "                                        ppf=lambda x:\n",
    "                                        (bernoulli.ppf(x, p=0.001)).astype(int)))\n",
    "            \n",
    "    return conditional_distributions"
   ]
  },
  {
   "cell_type": "markdown",
   "id": "a46d9bf9",
   "metadata": {},
   "source": [
    "Try this on.."
   ]
  },
  {
   "cell_type": "code",
   "execution_count": 980,
   "id": "8bbc7daa",
   "metadata": {
    "ExecuteTime": {
     "end_time": "2023-12-06T23:54:54.597791Z",
     "start_time": "2023-12-06T23:54:54.581785Z"
    }
   },
   "outputs": [],
   "source": [
    "conditional_distributions_from_csv = parse_conditional_distributions(conditional_probabilities_df_alarm)"
   ]
  },
  {
   "cell_type": "markdown",
   "id": "f03a2518",
   "metadata": {
    "ExecuteTime": {
     "end_time": "2023-12-04T22:40:49.232230Z",
     "start_time": "2023-12-04T22:40:49.232230Z"
    }
   },
   "source": [
    "Compare this to the object we created manually. We cannot compare the functions directly for equality; instead we check that they return the same values for an input array."
   ]
  },
  {
   "cell_type": "code",
   "execution_count": 991,
   "id": "087fddd0",
   "metadata": {
    "ExecuteTime": {
     "end_time": "2023-12-07T00:02:41.288263Z",
     "start_time": "2023-12-07T00:02:41.224267Z"
    }
   },
   "outputs": [
    {
     "name": "stdout",
     "output_type": "stream",
     "text": [
      "B ConditionalDistribution(conditionals=None, ppf=<function <lambda> at 0x000001B7EAC43798>)\n",
      "E ConditionalDistribution(conditionals=None, ppf=<function <lambda> at 0x000001B7E98D93A8>)\n"
     ]
    },
    {
     "ename": "AssertionError",
     "evalue": "",
     "output_type": "error",
     "traceback": [
      "\u001b[1;31m---------------------------------------------------------------------------\u001b[0m",
      "\u001b[1;31mAssertionError\u001b[0m                            Traceback (most recent call last)",
      "\u001b[1;32m~\\AppData\\Local\\Temp/ipykernel_13096/842560682.py\u001b[0m in \u001b[0;36m<module>\u001b[1;34m\u001b[0m\n\u001b[0;32m     14\u001b[0m         \u001b[1;32massert\u001b[0m \u001b[0mcd1\u001b[0m\u001b[1;33m.\u001b[0m\u001b[0mconditionals\u001b[0m \u001b[1;33m==\u001b[0m \u001b[0mcd2\u001b[0m\u001b[1;33m.\u001b[0m\u001b[0mconditionals\u001b[0m\u001b[1;33m\u001b[0m\u001b[1;33m\u001b[0m\u001b[0m\n\u001b[0;32m     15\u001b[0m         \u001b[0minput_range\u001b[0m \u001b[1;33m=\u001b[0m \u001b[0mnp\u001b[0m\u001b[1;33m.\u001b[0m\u001b[0marange\u001b[0m\u001b[1;33m(\u001b[0m\u001b[1;36m0.0\u001b[0m\u001b[1;33m,\u001b[0m \u001b[1;36m1.0\u001b[0m\u001b[1;33m,\u001b[0m \u001b[1;36m0.0001\u001b[0m\u001b[1;33m)\u001b[0m\u001b[1;33m\u001b[0m\u001b[1;33m\u001b[0m\u001b[0m\n\u001b[1;32m---> 16\u001b[1;33m         \u001b[1;32massert\u001b[0m \u001b[0mnp\u001b[0m\u001b[1;33m.\u001b[0m\u001b[0mall\u001b[0m\u001b[1;33m(\u001b[0m\u001b[0mcd1\u001b[0m\u001b[1;33m.\u001b[0m\u001b[0mppf\u001b[0m\u001b[1;33m(\u001b[0m\u001b[0minput_range\u001b[0m\u001b[1;33m)\u001b[0m \u001b[1;33m==\u001b[0m \u001b[0mcd2\u001b[0m\u001b[1;33m.\u001b[0m\u001b[0mppf\u001b[0m\u001b[1;33m(\u001b[0m\u001b[0minput_range\u001b[0m\u001b[1;33m)\u001b[0m\u001b[1;33m)\u001b[0m \u001b[1;31m# failing?\u001b[0m\u001b[1;33m\u001b[0m\u001b[1;33m\u001b[0m\u001b[0m\n\u001b[0m\u001b[0;32m     17\u001b[0m \u001b[1;31m#         i=i+1\u001b[0m\u001b[1;33m\u001b[0m\u001b[1;33m\u001b[0m\u001b[1;33m\u001b[0m\u001b[0m\n",
      "\u001b[1;31mAssertionError\u001b[0m: "
     ]
    }
   ],
   "source": [
    "for node in unique_nodes:\n",
    "    cds1 = conditional_distributions[node]\n",
    "    cds2 = conditional_distributions_from_csv[node]\n",
    "\n",
    "    assert len(cds1) == len(cds2)\n",
    "\n",
    "    # sort list by conditionals so we are comparing like-for-like\n",
    "    cds1.sort(key=lambda x: x.conditionals)\n",
    "    cds2.sort(key=lambda x: x.conditionals)\n",
    "\n",
    "#     i=0\n",
    "    for cd1, cd2 in zip(cds1, cds2):\n",
    "        print(node, cd1)\n",
    "        assert cd1.conditionals == cd2.conditionals\n",
    "        input_range = np.arange(0.0, 1.0, 0.0001)\n",
    "        assert np.all(cd1.ppf(input_range) == cd2.ppf(input_range)) # failing?\n",
    "#         i=i+1"
   ]
  },
  {
   "cell_type": "code",
   "execution_count": 1008,
   "id": "3d144415",
   "metadata": {
    "ExecuteTime": {
     "end_time": "2023-12-07T00:13:26.979143Z",
     "start_time": "2023-12-07T00:13:26.955152Z"
    }
   },
   "outputs": [
    {
     "name": "stdout",
     "output_type": "stream",
     "text": [
      "[1 1 1 1 1]\n",
      "[1 1 1 1 1]\n"
     ]
    }
   ],
   "source": [
    "node='E'\n",
    "i=0\n",
    "cds1 = conditional_distributions[node]\n",
    "cds2 = conditional_distributions_from_csv[node]\n",
    "print(cds1[i].ppf([0.999, 0.9991, 0.9992, 0.9995, 0.9999]))\n",
    "print(cds2[i].ppf([0.999, 0.9991, 0.9992, 0.9995, 0.9999]))"
   ]
  },
  {
   "cell_type": "markdown",
   "id": "d6e75cba",
   "metadata": {},
   "source": [
    "# Extending the implementation"
   ]
  },
  {
   "cell_type": "markdown",
   "id": "ab307c03",
   "metadata": {},
   "source": []
  },
  {
   "cell_type": "markdown",
   "id": "a55b60b4",
   "metadata": {},
   "source": [
    "notes\n",
    "- or functionality\n",
    "- max arg\n",
    "- test vs. excel\n",
    "- test via parser\n",
    "- regex to check conditionals format\n",
    "- add p to cd object"
   ]
  },
  {
   "cell_type": "code",
   "execution_count": null,
   "id": "aca27223",
   "metadata": {},
   "outputs": [],
   "source": []
  }
 ],
 "metadata": {
  "kernelspec": {
   "display_name": "Python 3 (ipykernel)",
   "language": "python",
   "name": "python3"
  },
  "language_info": {
   "codemirror_mode": {
    "name": "ipython",
    "version": 3
   },
   "file_extension": ".py",
   "mimetype": "text/x-python",
   "name": "python",
   "nbconvert_exporter": "python",
   "pygments_lexer": "ipython3",
   "version": "3.7.11"
  },
  "toc": {
   "base_numbering": 1,
   "nav_menu": {},
   "number_sections": true,
   "sideBar": true,
   "skip_h1_title": false,
   "title_cell": "Table of Contents",
   "title_sidebar": "Contents",
   "toc_cell": false,
   "toc_position": {
    "height": "calc(100% - 180px)",
    "left": "10px",
    "top": "150px",
    "width": "330.667px"
   },
   "toc_section_display": true,
   "toc_window_display": true
  },
  "varInspector": {
   "cols": {
    "lenName": 16,
    "lenType": 16,
    "lenVar": 40
   },
   "kernels_config": {
    "python": {
     "delete_cmd_postfix": "",
     "delete_cmd_prefix": "del ",
     "library": "var_list.py",
     "varRefreshCmd": "print(var_dic_list())"
    },
    "r": {
     "delete_cmd_postfix": ") ",
     "delete_cmd_prefix": "rm(",
     "library": "var_list.r",
     "varRefreshCmd": "cat(var_dic_list()) "
    }
   },
   "types_to_exclude": [
    "module",
    "function",
    "builtin_function_or_method",
    "instance",
    "_Feature"
   ],
   "window_display": false
  }
 },
 "nbformat": 4,
 "nbformat_minor": 5
}
