{
 "cells": [
  {
   "cell_type": "markdown",
   "id": "b914b08c",
   "metadata": {},
   "source": [
    "# What is a Bayes net?\n",
    "\n",
    "A Bayes net - or Bayesian network - is a probabilistic graphical model, or PGM. It is a simple and intuitive way to represent a joint probability distribution by specifying conditional probability distributions for the underlying variables in the network. Bayes nets can represent both discrete and continuous variables, though we will focus initially on networks with only discrete variables. \n",
    "\n",
    "We'll use two toy examples to explore the implementation.\n",
    "\n",
    "1. The alarm network: https://github.com/jpmcarrilho/AIMA/blob/master/probability-4e.ipynb \n",
    "    _The story, from Judea Pearl, is that there is a house burglar alarm, which can be triggered by either a burglary or an earthquake. If the alarm sounds, one or both of the neighbors, John and Mary, might call the owner to say the alarm is sounding._\n",
    "\n",
    "2. This one also looked fun! https://www.cs.cmu.edu/afs/cs.cmu.edu/project/learn-43/lib/photoz/.g/web/glossary/bayesnet.html\n"
   ]
  },
  {
   "cell_type": "markdown",
   "id": "f8b292d4",
   "metadata": {},
   "source": [
    "# Representing a Bayes net in code\n",
    "\n",
    "Conceptually a Bayes net is simple; all we need is the node mappings, or dependencies, and the probabilities that define the conditional / unconditional probability distributions.  \n",
    "\n",
    "In terms of defining a structure, we will look to capture the key attributes.\n",
    "\n",
    "|Attribute |Description| \n",
    "|-----|-----|\n",
    "| _names_ |Maps a convenient shorthand node label to the to the full text e.g. A for Alarm  |\n",
    "|_dependencies_|Maps nodes to their dependents |\n",
    "|_parents_|Maps nodes to their parents |\n",
    "|_conditional_probabilities_|Maps nodes to their conditional probabilities |\n",
    "|_independent_nodes_|Set of nodes with no parents |\n",
    "|_leaf_nodes_|Set of nodes with no dependencies |"
   ]
  },
  {
   "cell_type": "markdown",
   "id": "aff4f93a",
   "metadata": {},
   "source": [
    "We can use a dataclass to represent this structure for the two examples. In this case we are constructing the network manually, but later we will generalise the process such that the structure can be generated from a minimal representation i.e. the conditional probabilities. For now the conditional probabilities will be set as None."
   ]
  },
  {
   "cell_type": "code",
   "execution_count": 563,
   "id": "5e4c1052",
   "metadata": {
    "ExecuteTime": {
     "end_time": "2023-12-03T14:46:18.703093Z",
     "start_time": "2023-12-03T14:46:18.687092Z"
    }
   },
   "outputs": [],
   "source": [
    "from dataclasses import dataclass\n",
    "\n",
    "\n",
    "@dataclass\n",
    "class BayesNet:\n",
    "    \"\"\"Class for representing a Bayes net.\"\"\"\n",
    "    names: dict\n",
    "    dependencies: dict\n",
    "    parents: dict\n",
    "    conditional_probabilities: dict\n",
    "    independent_nodes: set\n",
    "    leaf_nodes: set"
   ]
  },
  {
   "cell_type": "code",
   "execution_count": 564,
   "id": "94469800",
   "metadata": {
    "ExecuteTime": {
     "end_time": "2023-12-03T14:46:18.718601Z",
     "start_time": "2023-12-03T14:46:18.707603Z"
    }
   },
   "outputs": [],
   "source": [
    "bayesnet_alarm = BayesNet(names={\n",
    "    'B': 'Burglary',\n",
    "    'E': 'Earthquake',\n",
    "    'A': 'Alarm',\n",
    "    'M': 'Mary calls',\n",
    "    'J': 'John calls'\n",
    "},\n",
    "    dependencies={\n",
    "    'B': ['A'],\n",
    "    'E': ['A'],\n",
    "    'A': ['M', 'J']\n",
    "},\n",
    "    parents={\n",
    "    'M': ['A'],\n",
    "    'J': ['A'],\n",
    "    'A': ['B', 'E']\n",
    "},\n",
    "    conditional_probabilities=None,\n",
    "    independent_nodes={'B', 'E'},\n",
    "    leaf_nodes={'M', 'J'})"
   ]
  },
  {
   "cell_type": "code",
   "execution_count": 565,
   "id": "01c94b42",
   "metadata": {
    "ExecuteTime": {
     "end_time": "2023-12-03T14:46:18.734601Z",
     "start_time": "2023-12-03T14:46:18.721602Z"
    }
   },
   "outputs": [],
   "source": [
    "bayesnet_mars = BayesNet(names={\n",
    "    'V': 'Visited Mars',\n",
    "    'C': 'Common cold',\n",
    "    'M': 'Martian death flu',\n",
    "    'R': 'Runny nose',\n",
    "    'H': 'Headache',\n",
    "    'S': 'Spontaneous combustion'\n",
    "},\n",
    "    dependencies={\n",
    "    'V': ['M'],\n",
    "    'M': ['R', 'H', 'S'],\n",
    "    'C': ['R', 'H']\n",
    "},\n",
    "    parents={\n",
    "    'R': ['C'],\n",
    "    'H': ['C', 'M'],\n",
    "    'S': ['M'],\n",
    "    'M': ['V']\n",
    "},\n",
    "    conditional_probabilities=None,\n",
    "    independent_nodes={'V', 'C'},\n",
    "    leaf_nodes={'R', 'H', 'S'})"
   ]
  },
  {
   "cell_type": "markdown",
   "id": "b782b319",
   "metadata": {},
   "source": [
    "# Visualising a Bayes net\n",
    "\n",
    "Seeing a network makes it easier to interpret. The package graphviz is a useful tool to help us; all we need to do is specify the nodes, and the edges between nodes, which we can extract from the attributes."
   ]
  },
  {
   "cell_type": "code",
   "execution_count": 566,
   "id": "08606995",
   "metadata": {
    "ExecuteTime": {
     "end_time": "2023-12-03T14:46:18.750602Z",
     "start_time": "2023-12-03T14:46:18.738603Z"
    }
   },
   "outputs": [],
   "source": [
    "import graphviz\n",
    "\n",
    "def visualise_bn(bn: BayesNet, use_full_names: bool):\n",
    "    \"\"\"Visualises Bayes net object.\"\"\"\n",
    "    g = graphviz.Digraph()\n",
    "    for node, next_nodes in bn.dependencies.items():\n",
    "        for nn in next_nodes:\n",
    "            if use_full_names:\n",
    "                g.edge(bn.names[node], bn.names[nn])\n",
    "            else:\n",
    "                g.edge(node, nn)\n",
    "    return g"
   ]
  },
  {
   "cell_type": "code",
   "execution_count": 567,
   "id": "8839a8fe",
   "metadata": {
    "ExecuteTime": {
     "end_time": "2023-12-03T14:46:19.924347Z",
     "start_time": "2023-12-03T14:46:18.753606Z"
    }
   },
   "outputs": [
    {
     "data": {
      "image/svg+xml": [
       "<?xml version=\"1.0\" encoding=\"UTF-8\" standalone=\"no\"?>\r\n",
       "<!DOCTYPE svg PUBLIC \"-//W3C//DTD SVG 1.1//EN\"\r\n",
       " \"http://www.w3.org/Graphics/SVG/1.1/DTD/svg11.dtd\">\r\n",
       "<!-- Generated by graphviz version 2.38.0 (20140413.2041)\r\n",
       " -->\r\n",
       "<!-- Title: %3 Pages: 1 -->\r\n",
       "<svg width=\"219pt\" height=\"188pt\"\r\n",
       " viewBox=\"0.00 0.00 219.44 188.00\" xmlns=\"http://www.w3.org/2000/svg\" xmlns:xlink=\"http://www.w3.org/1999/xlink\">\r\n",
       "<g id=\"graph0\" class=\"graph\" transform=\"scale(1 1) rotate(0) translate(4 184)\">\r\n",
       "<title>%3</title>\r\n",
       "<polygon fill=\"white\" stroke=\"none\" points=\"-4,4 -4,-184 215.441,-184 215.441,4 -4,4\"/>\r\n",
       "<!-- Burglary -->\r\n",
       "<g id=\"node1\" class=\"node\"><title>Burglary</title>\r\n",
       "<ellipse fill=\"none\" stroke=\"black\" cx=\"49.0957\" cy=\"-162\" rx=\"41.6928\" ry=\"18\"/>\r\n",
       "<text text-anchor=\"middle\" x=\"49.0957\" y=\"-158.3\" font-family=\"Times New Roman,serif\" font-size=\"14.00\">Burglary</text>\r\n",
       "</g>\r\n",
       "<!-- Alarm -->\r\n",
       "<g id=\"node2\" class=\"node\"><title>Alarm</title>\r\n",
       "<ellipse fill=\"none\" stroke=\"black\" cx=\"104.096\" cy=\"-90\" rx=\"32.4942\" ry=\"18\"/>\r\n",
       "<text text-anchor=\"middle\" x=\"104.096\" y=\"-86.3\" font-family=\"Times New Roman,serif\" font-size=\"14.00\">Alarm</text>\r\n",
       "</g>\r\n",
       "<!-- Burglary&#45;&gt;Alarm -->\r\n",
       "<g id=\"edge1\" class=\"edge\"><title>Burglary&#45;&gt;Alarm</title>\r\n",
       "<path fill=\"none\" stroke=\"black\" d=\"M61.8521,-144.765C68.893,-135.804 77.7645,-124.512 85.5579,-114.594\"/>\r\n",
       "<polygon fill=\"black\" stroke=\"black\" points=\"88.3608,-116.691 91.7869,-106.666 82.8565,-112.367 88.3608,-116.691\"/>\r\n",
       "</g>\r\n",
       "<!-- Mary calls -->\r\n",
       "<g id=\"node4\" class=\"node\"><title>Mary calls</title>\r\n",
       "<ellipse fill=\"none\" stroke=\"black\" cx=\"48.0957\" cy=\"-18\" rx=\"48.1917\" ry=\"18\"/>\r\n",
       "<text text-anchor=\"middle\" x=\"48.0957\" y=\"-14.3\" font-family=\"Times New Roman,serif\" font-size=\"14.00\">Mary calls</text>\r\n",
       "</g>\r\n",
       "<!-- Alarm&#45;&gt;Mary calls -->\r\n",
       "<g id=\"edge3\" class=\"edge\"><title>Alarm&#45;&gt;Mary calls</title>\r\n",
       "<path fill=\"none\" stroke=\"black\" d=\"M91.3885,-73.1159C84.4302,-64.4181 75.6543,-53.4483 67.8259,-43.6627\"/>\r\n",
       "<polygon fill=\"black\" stroke=\"black\" points=\"70.5136,-41.4196 61.5336,-35.7973 65.0476,-45.7925 70.5136,-41.4196\"/>\r\n",
       "</g>\r\n",
       "<!-- John calls -->\r\n",
       "<g id=\"node5\" class=\"node\"><title>John calls</title>\r\n",
       "<ellipse fill=\"none\" stroke=\"black\" cx=\"160.096\" cy=\"-18\" rx=\"46.2923\" ry=\"18\"/>\r\n",
       "<text text-anchor=\"middle\" x=\"160.096\" y=\"-14.3\" font-family=\"Times New Roman,serif\" font-size=\"14.00\">John calls</text>\r\n",
       "</g>\r\n",
       "<!-- Alarm&#45;&gt;John calls -->\r\n",
       "<g id=\"edge4\" class=\"edge\"><title>Alarm&#45;&gt;John calls</title>\r\n",
       "<path fill=\"none\" stroke=\"black\" d=\"M116.803,-73.1159C123.862,-64.292 132.792,-53.1298 140.705,-43.238\"/>\r\n",
       "<polygon fill=\"black\" stroke=\"black\" points=\"143.536,-45.3022 147.05,-35.307 138.07,-40.9293 143.536,-45.3022\"/>\r\n",
       "</g>\r\n",
       "<!-- Earthquake -->\r\n",
       "<g id=\"node3\" class=\"node\"><title>Earthquake</title>\r\n",
       "<ellipse fill=\"none\" stroke=\"black\" cx=\"160.096\" cy=\"-162\" rx=\"51.1914\" ry=\"18\"/>\r\n",
       "<text text-anchor=\"middle\" x=\"160.096\" y=\"-158.3\" font-family=\"Times New Roman,serif\" font-size=\"14.00\">Earthquake</text>\r\n",
       "</g>\r\n",
       "<!-- Earthquake&#45;&gt;Alarm -->\r\n",
       "<g id=\"edge2\" class=\"edge\"><title>Earthquake&#45;&gt;Alarm</title>\r\n",
       "<path fill=\"none\" stroke=\"black\" d=\"M146.825,-144.411C139.82,-135.655 131.097,-124.751 123.361,-115.082\"/>\r\n",
       "<polygon fill=\"black\" stroke=\"black\" points=\"125.866,-112.61 116.886,-106.988 120.4,-116.983 125.866,-112.61\"/>\r\n",
       "</g>\r\n",
       "</g>\r\n",
       "</svg>\r\n"
      ],
      "text/plain": [
       "<graphviz.dot.Digraph at 0x1b7dc032588>"
      ]
     },
     "execution_count": 567,
     "metadata": {},
     "output_type": "execute_result"
    }
   ],
   "source": [
    "visualise_bn(bn=bayesnet_alarm, use_full_names=True)"
   ]
  },
  {
   "cell_type": "code",
   "execution_count": 568,
   "id": "7010fc0c",
   "metadata": {
    "ExecuteTime": {
     "end_time": "2023-12-03T14:46:20.130619Z",
     "start_time": "2023-12-03T14:46:19.927348Z"
    }
   },
   "outputs": [
    {
     "data": {
      "image/svg+xml": [
       "<?xml version=\"1.0\" encoding=\"UTF-8\" standalone=\"no\"?>\r\n",
       "<!DOCTYPE svg PUBLIC \"-//W3C//DTD SVG 1.1//EN\"\r\n",
       " \"http://www.w3.org/Graphics/SVG/1.1/DTD/svg11.dtd\">\r\n",
       "<!-- Generated by graphviz version 2.38.0 (20140413.2041)\r\n",
       " -->\r\n",
       "<!-- Title: %3 Pages: 1 -->\r\n",
       "<svg width=\"468pt\" height=\"188pt\"\r\n",
       " viewBox=\"0.00 0.00 468.04 188.00\" xmlns=\"http://www.w3.org/2000/svg\" xmlns:xlink=\"http://www.w3.org/1999/xlink\">\r\n",
       "<g id=\"graph0\" class=\"graph\" transform=\"scale(1 1) rotate(0) translate(4 184)\">\r\n",
       "<title>%3</title>\r\n",
       "<polygon fill=\"white\" stroke=\"none\" points=\"-4,4 -4,-184 464.035,-184 464.035,4 -4,4\"/>\r\n",
       "<!-- Visited Mars -->\r\n",
       "<g id=\"node1\" class=\"node\"><title>Visited Mars</title>\r\n",
       "<ellipse fill=\"none\" stroke=\"black\" cx=\"216.694\" cy=\"-162\" rx=\"57.3905\" ry=\"18\"/>\r\n",
       "<text text-anchor=\"middle\" x=\"216.694\" y=\"-158.3\" font-family=\"Times New Roman,serif\" font-size=\"14.00\">Visited Mars</text>\r\n",
       "</g>\r\n",
       "<!-- Martian death flu -->\r\n",
       "<g id=\"node2\" class=\"node\"><title>Martian death flu</title>\r\n",
       "<ellipse fill=\"none\" stroke=\"black\" cx=\"216.694\" cy=\"-90\" rx=\"71.4873\" ry=\"18\"/>\r\n",
       "<text text-anchor=\"middle\" x=\"216.694\" y=\"-86.3\" font-family=\"Times New Roman,serif\" font-size=\"14.00\">Martian death flu</text>\r\n",
       "</g>\r\n",
       "<!-- Visited Mars&#45;&gt;Martian death flu -->\r\n",
       "<g id=\"edge1\" class=\"edge\"><title>Visited Mars&#45;&gt;Martian death flu</title>\r\n",
       "<path fill=\"none\" stroke=\"black\" d=\"M216.694,-143.697C216.694,-135.983 216.694,-126.712 216.694,-118.112\"/>\r\n",
       "<polygon fill=\"black\" stroke=\"black\" points=\"220.194,-118.104 216.694,-108.104 213.194,-118.104 220.194,-118.104\"/>\r\n",
       "</g>\r\n",
       "<!-- Runny nose -->\r\n",
       "<g id=\"node3\" class=\"node\"><title>Runny nose</title>\r\n",
       "<ellipse fill=\"none\" stroke=\"black\" cx=\"181.694\" cy=\"-18\" rx=\"53.8905\" ry=\"18\"/>\r\n",
       "<text text-anchor=\"middle\" x=\"181.694\" y=\"-14.3\" font-family=\"Times New Roman,serif\" font-size=\"14.00\">Runny nose</text>\r\n",
       "</g>\r\n",
       "<!-- Martian death flu&#45;&gt;Runny nose -->\r\n",
       "<g id=\"edge2\" class=\"edge\"><title>Martian death flu&#45;&gt;Runny nose</title>\r\n",
       "<path fill=\"none\" stroke=\"black\" d=\"M208.222,-72.055C204.138,-63.8866 199.15,-53.9116 194.607,-44.8244\"/>\r\n",
       "<polygon fill=\"black\" stroke=\"black\" points=\"197.692,-43.168 190.089,-35.789 191.431,-46.2985 197.692,-43.168\"/>\r\n",
       "</g>\r\n",
       "<!-- Headache -->\r\n",
       "<g id=\"node4\" class=\"node\"><title>Headache</title>\r\n",
       "<ellipse fill=\"none\" stroke=\"black\" cx=\"63.6943\" cy=\"-18\" rx=\"46.2923\" ry=\"18\"/>\r\n",
       "<text text-anchor=\"middle\" x=\"63.6943\" y=\"-14.3\" font-family=\"Times New Roman,serif\" font-size=\"14.00\">Headache</text>\r\n",
       "</g>\r\n",
       "<!-- Martian death flu&#45;&gt;Headache -->\r\n",
       "<g id=\"edge3\" class=\"edge\"><title>Martian death flu&#45;&gt;Headache</title>\r\n",
       "<path fill=\"none\" stroke=\"black\" d=\"M183.872,-73.9832C159.814,-62.9761 127.088,-48.0036 101.861,-36.4621\"/>\r\n",
       "<polygon fill=\"black\" stroke=\"black\" points=\"103.144,-33.1998 92.594,-32.2221 100.231,-39.5652 103.144,-33.1998\"/>\r\n",
       "</g>\r\n",
       "<!-- Spontaneous combustion -->\r\n",
       "<g id=\"node5\" class=\"node\"><title>Spontaneous combustion</title>\r\n",
       "<ellipse fill=\"none\" stroke=\"black\" cx=\"356.694\" cy=\"-18\" rx=\"103.182\" ry=\"18\"/>\r\n",
       "<text text-anchor=\"middle\" x=\"356.694\" y=\"-14.3\" font-family=\"Times New Roman,serif\" font-size=\"14.00\">Spontaneous combustion</text>\r\n",
       "</g>\r\n",
       "<!-- Martian death flu&#45;&gt;Spontaneous combustion -->\r\n",
       "<g id=\"edge4\" class=\"edge\"><title>Martian death flu&#45;&gt;Spontaneous combustion</title>\r\n",
       "<path fill=\"none\" stroke=\"black\" d=\"M247.418,-73.6382C267.279,-63.7076 293.377,-50.6586 315.088,-39.8033\"/>\r\n",
       "<polygon fill=\"black\" stroke=\"black\" points=\"316.714,-42.9035 324.093,-35.3008 313.583,-36.6425 316.714,-42.9035\"/>\r\n",
       "</g>\r\n",
       "<!-- Common cold -->\r\n",
       "<g id=\"node6\" class=\"node\"><title>Common cold</title>\r\n",
       "<ellipse fill=\"none\" stroke=\"black\" cx=\"63.6943\" cy=\"-90\" rx=\"63.8893\" ry=\"18\"/>\r\n",
       "<text text-anchor=\"middle\" x=\"63.6943\" y=\"-86.3\" font-family=\"Times New Roman,serif\" font-size=\"14.00\">Common cold</text>\r\n",
       "</g>\r\n",
       "<!-- Common cold&#45;&gt;Runny nose -->\r\n",
       "<g id=\"edge5\" class=\"edge\"><title>Common cold&#45;&gt;Runny nose</title>\r\n",
       "<path fill=\"none\" stroke=\"black\" d=\"M89.8824,-73.4647C106.921,-63.3574 129.312,-50.0745 147.716,-39.1567\"/>\r\n",
       "<polygon fill=\"black\" stroke=\"black\" points=\"149.575,-42.1236 156.389,-34.0114 146.003,-36.1033 149.575,-42.1236\"/>\r\n",
       "</g>\r\n",
       "<!-- Common cold&#45;&gt;Headache -->\r\n",
       "<g id=\"edge6\" class=\"edge\"><title>Common cold&#45;&gt;Headache</title>\r\n",
       "<path fill=\"none\" stroke=\"black\" d=\"M63.6943,-71.6966C63.6943,-63.9827 63.6943,-54.7125 63.6943,-46.1124\"/>\r\n",
       "<polygon fill=\"black\" stroke=\"black\" points=\"67.1944,-46.1043 63.6943,-36.1043 60.1944,-46.1044 67.1944,-46.1043\"/>\r\n",
       "</g>\r\n",
       "</g>\r\n",
       "</svg>\r\n"
      ],
      "text/plain": [
       "<graphviz.dot.Digraph at 0x1b7dbeca908>"
      ]
     },
     "execution_count": 568,
     "metadata": {},
     "output_type": "execute_result"
    }
   ],
   "source": [
    "visualise_bn(bn=bayesnet_mars, use_full_names=True)"
   ]
  },
  {
   "cell_type": "markdown",
   "id": "f8a4e884",
   "metadata": {},
   "source": [
    "# Specifying the joint probability distribution via conditional probabilities\n",
    "\n",
    "Thus far we've looked at Bayes nets as graphs, focusing on the nodes and the dependencies between nodes. The tricky bit of a Bayes net is how to succinctly and efficiently represent and work with the conditional probabilities. We can use a CSV format to specify the key information, which we have done for the key examples in data/conditional_probabilities_alarm.csv.\n",
    "\n",
    "We read these into a Pandas data-frame: "
   ]
  },
  {
   "cell_type": "code",
   "execution_count": 569,
   "id": "314bf873",
   "metadata": {
    "ExecuteTime": {
     "end_time": "2023-12-03T14:46:20.162619Z",
     "start_time": "2023-12-03T14:46:20.132606Z"
    }
   },
   "outputs": [
    {
     "data": {
      "text/html": [
       "<div>\n",
       "<style scoped>\n",
       "    .dataframe tbody tr th:only-of-type {\n",
       "        vertical-align: middle;\n",
       "    }\n",
       "\n",
       "    .dataframe tbody tr th {\n",
       "        vertical-align: top;\n",
       "    }\n",
       "\n",
       "    .dataframe thead th {\n",
       "        text-align: right;\n",
       "    }\n",
       "</style>\n",
       "<table border=\"1\" class=\"dataframe\">\n",
       "  <thead>\n",
       "    <tr style=\"text-align: right;\">\n",
       "      <th></th>\n",
       "      <th>node</th>\n",
       "      <th>probability</th>\n",
       "      <th>conditionals</th>\n",
       "    </tr>\n",
       "  </thead>\n",
       "  <tbody>\n",
       "    <tr>\n",
       "      <th>0</th>\n",
       "      <td>B</td>\n",
       "      <td>0.001</td>\n",
       "      <td>None</td>\n",
       "    </tr>\n",
       "    <tr>\n",
       "      <th>1</th>\n",
       "      <td>E</td>\n",
       "      <td>0.002</td>\n",
       "      <td>None</td>\n",
       "    </tr>\n",
       "    <tr>\n",
       "      <th>2</th>\n",
       "      <td>A</td>\n",
       "      <td>0.950</td>\n",
       "      <td>B=T;E=T</td>\n",
       "    </tr>\n",
       "    <tr>\n",
       "      <th>3</th>\n",
       "      <td>A</td>\n",
       "      <td>0.940</td>\n",
       "      <td>B=T;E=F</td>\n",
       "    </tr>\n",
       "    <tr>\n",
       "      <th>4</th>\n",
       "      <td>A</td>\n",
       "      <td>0.290</td>\n",
       "      <td>B=F;E=T</td>\n",
       "    </tr>\n",
       "    <tr>\n",
       "      <th>5</th>\n",
       "      <td>A</td>\n",
       "      <td>0.001</td>\n",
       "      <td>B=F;E=F</td>\n",
       "    </tr>\n",
       "    <tr>\n",
       "      <th>6</th>\n",
       "      <td>J</td>\n",
       "      <td>0.900</td>\n",
       "      <td>A=T</td>\n",
       "    </tr>\n",
       "    <tr>\n",
       "      <th>7</th>\n",
       "      <td>J</td>\n",
       "      <td>0.050</td>\n",
       "      <td>A=F</td>\n",
       "    </tr>\n",
       "    <tr>\n",
       "      <th>8</th>\n",
       "      <td>M</td>\n",
       "      <td>0.700</td>\n",
       "      <td>A=T</td>\n",
       "    </tr>\n",
       "    <tr>\n",
       "      <th>9</th>\n",
       "      <td>M</td>\n",
       "      <td>0.010</td>\n",
       "      <td>A=F</td>\n",
       "    </tr>\n",
       "  </tbody>\n",
       "</table>\n",
       "</div>"
      ],
      "text/plain": [
       "  node  probability conditionals\n",
       "0    B        0.001         None\n",
       "1    E        0.002         None\n",
       "2    A        0.950      B=T;E=T\n",
       "3    A        0.940      B=T;E=F\n",
       "4    A        0.290      B=F;E=T\n",
       "5    A        0.001      B=F;E=F\n",
       "6    J        0.900          A=T\n",
       "7    J        0.050          A=F\n",
       "8    M        0.700          A=T\n",
       "9    M        0.010          A=F"
      ]
     },
     "execution_count": 569,
     "metadata": {},
     "output_type": "execute_result"
    }
   ],
   "source": [
    "import pandas as pd\n",
    "with open('../data/conditional_probabilities_alarm.csv', 'r') as f:\n",
    "    conditional_probabilities_df_alarm = pd.read_csv(f)\n",
    "\n",
    "conditional_probabilities_df_alarm"
   ]
  },
  {
   "cell_type": "markdown",
   "id": "0de98821",
   "metadata": {},
   "source": [
    "Each distribution is specified on one row. For independent nodes - B & E - there is no conditioning, hence one line defines the complete and unconditional probability. A requires four rows, since it has two parent nodes, each of which can take two values. J and M each have one parent, so require two rows.\n",
    "\n",
    "We have given minimal info thus far, and each row is implicitly a Bernoulli distribution, with the probability corresponding to the parameter generally taken as p. For the moment we will assume Bernoulli distributions, and examine later how we can generalise this."
   ]
  },
  {
   "cell_type": "markdown",
   "id": "b3833d77",
   "metadata": {},
   "source": [
    "# Simulating a Bayes net\n",
    "\n",
    "This functionality is generally in line with the proof-of-concept Excel model. If you haven't seen that, it may be useful to take a look as that gives decent intuition into how and why the simulation functionality is set out."
   ]
  },
  {
   "cell_type": "markdown",
   "id": "dfe328b4",
   "metadata": {},
   "source": [
    "## Random numbers"
   ]
  },
  {
   "cell_type": "code",
   "execution_count": 570,
   "id": "90523689",
   "metadata": {
    "ExecuteTime": {
     "end_time": "2023-12-03T14:46:20.384962Z",
     "start_time": "2023-12-03T14:46:20.164608Z"
    }
   },
   "outputs": [
    {
     "data": {
      "text/html": [
       "<div>\n",
       "<style scoped>\n",
       "    .dataframe tbody tr th:only-of-type {\n",
       "        vertical-align: middle;\n",
       "    }\n",
       "\n",
       "    .dataframe tbody tr th {\n",
       "        vertical-align: top;\n",
       "    }\n",
       "\n",
       "    .dataframe thead th {\n",
       "        text-align: right;\n",
       "    }\n",
       "</style>\n",
       "<table border=\"1\" class=\"dataframe\">\n",
       "  <thead>\n",
       "    <tr style=\"text-align: right;\">\n",
       "      <th></th>\n",
       "      <th>B</th>\n",
       "      <th>E</th>\n",
       "      <th>A</th>\n",
       "      <th>M</th>\n",
       "      <th>J</th>\n",
       "    </tr>\n",
       "  </thead>\n",
       "  <tbody>\n",
       "    <tr>\n",
       "      <th>0</th>\n",
       "      <td>0.946102</td>\n",
       "      <td>0.578330</td>\n",
       "      <td>0.741226</td>\n",
       "      <td>0.365127</td>\n",
       "      <td>0.833227</td>\n",
       "    </tr>\n",
       "    <tr>\n",
       "      <th>1</th>\n",
       "      <td>0.998269</td>\n",
       "      <td>0.157830</td>\n",
       "      <td>0.723855</td>\n",
       "      <td>0.279586</td>\n",
       "      <td>0.861028</td>\n",
       "    </tr>\n",
       "    <tr>\n",
       "      <th>2</th>\n",
       "      <td>0.537858</td>\n",
       "      <td>0.691179</td>\n",
       "      <td>0.728596</td>\n",
       "      <td>0.346864</td>\n",
       "      <td>0.346127</td>\n",
       "    </tr>\n",
       "    <tr>\n",
       "      <th>3</th>\n",
       "      <td>0.420817</td>\n",
       "      <td>0.045270</td>\n",
       "      <td>0.658436</td>\n",
       "      <td>0.841218</td>\n",
       "      <td>0.978299</td>\n",
       "    </tr>\n",
       "    <tr>\n",
       "      <th>4</th>\n",
       "      <td>0.762577</td>\n",
       "      <td>0.817734</td>\n",
       "      <td>0.442690</td>\n",
       "      <td>0.748229</td>\n",
       "      <td>0.558408</td>\n",
       "    </tr>\n",
       "  </tbody>\n",
       "</table>\n",
       "</div>"
      ],
      "text/plain": [
       "          B         E         A         M         J\n",
       "0  0.946102  0.578330  0.741226  0.365127  0.833227\n",
       "1  0.998269  0.157830  0.723855  0.279586  0.861028\n",
       "2  0.537858  0.691179  0.728596  0.346864  0.346127\n",
       "3  0.420817  0.045270  0.658436  0.841218  0.978299\n",
       "4  0.762577  0.817734  0.442690  0.748229  0.558408"
      ]
     },
     "execution_count": 570,
     "metadata": {},
     "output_type": "execute_result"
    }
   ],
   "source": [
    "with open('../excel/fixed_random_numbers_100k.csv', 'r') as f:\n",
    "    random_numbers = pd.read_csv(f)\n",
    "N = random_numbers.shape[0]    \n",
    "    \n",
    "random_numbers = 1-random_numbers # to align Excel and ppf\n",
    "random_numbers.head()"
   ]
  },
  {
   "cell_type": "markdown",
   "id": "408bc23c",
   "metadata": {},
   "source": [
    "## Representing conditional distributions"
   ]
  },
  {
   "cell_type": "code",
   "execution_count": 571,
   "id": "f34a028b",
   "metadata": {
    "ExecuteTime": {
     "end_time": "2023-12-03T14:46:20.400947Z",
     "start_time": "2023-12-03T14:46:20.387949Z"
    }
   },
   "outputs": [],
   "source": [
    "from typing import Optional, List, Callable, Tuple\n",
    "\n",
    "@dataclass\n",
    "class ConditionalDistribution:\n",
    "    \"\"\"Class for representing a conditional distribution.\"\"\"\n",
    "    conditionals: Optional[List[Tuple[str,int]]]\n",
    "    ppf: Callable\n",
    "    "
   ]
  },
  {
   "cell_type": "code",
   "execution_count": 572,
   "id": "fae9e2e4",
   "metadata": {
    "ExecuteTime": {
     "end_time": "2023-12-03T14:46:20.431187Z",
     "start_time": "2023-12-03T14:46:20.404950Z"
    }
   },
   "outputs": [],
   "source": [
    "from scipy.stats import bernoulli\n",
    "\n",
    "conditional_distributions = {\n",
    "    'B': [ConditionalDistribution(conditionals=None,\n",
    "                                  ppf = lambda x: (bernoulli.ppf(x, p=0.001)).astype(int)\n",
    "                                 )],\n",
    "    'E': [ConditionalDistribution(conditionals=None,\n",
    "                                  ppf = lambda x: (bernoulli.ppf(x, p=0.002)).astype(int)\n",
    "                                 )],\n",
    "    'A': [ConditionalDistribution(conditionals=[('B', 0),('E', 0)],\n",
    "                                  ppf = lambda x: (bernoulli.ppf(x, p=0.001)).astype(int)\n",
    "                                 ),\n",
    "          ConditionalDistribution(conditionals=[('B', 0),('E', 1)],\n",
    "                                  ppf = lambda x: (bernoulli.ppf(x, p=0.29)).astype(int)\n",
    "                                 ),\n",
    "          ConditionalDistribution(conditionals=[('B', 1),('E', 0)],\n",
    "                                  ppf = lambda x: (bernoulli.ppf(x, p=0.94)).astype(int)\n",
    "                                 ),\n",
    "          ConditionalDistribution(conditionals=[('B', 1),('E', 1)],\n",
    "                                  ppf = lambda x: (bernoulli.ppf(x, p=0.95)).astype(int)\n",
    "                                 )],\n",
    "    'M': [ConditionalDistribution(conditionals=[('A', 0)],\n",
    "                                  ppf = lambda x: (bernoulli.ppf(x, p=0.01)).astype(int)\n",
    "                                 ),\n",
    "          ConditionalDistribution(conditionals=[('A', 1)],\n",
    "                                  ppf = lambda x: (bernoulli.ppf(x, p=0.7)).astype(int)\n",
    "                                 )],\n",
    "    'J': [ConditionalDistribution(conditionals=[('A', 0)],\n",
    "                                  ppf = lambda x: (bernoulli.ppf(x, p=0.05)).astype(int)\n",
    "                                 ),\n",
    "          ConditionalDistribution(conditionals=[('A', 1)],\n",
    "                                  ppf = lambda x: (bernoulli.ppf(x, p=0.9)).astype(int)\n",
    "                                 )]\n",
    "}"
   ]
  },
  {
   "cell_type": "markdown",
   "id": "a8a7f4af",
   "metadata": {},
   "source": [
    "## Ordering the simulation of variables"
   ]
  },
  {
   "cell_type": "code",
   "execution_count": 573,
   "id": "b0e8ff4c",
   "metadata": {
    "ExecuteTime": {
     "end_time": "2023-12-03T14:46:20.446198Z",
     "start_time": "2023-12-03T14:46:20.434185Z"
    }
   },
   "outputs": [],
   "source": [
    "variables_order = ['B', 'E', 'A', 'M', 'J']"
   ]
  },
  {
   "cell_type": "markdown",
   "id": "b42b2e38",
   "metadata": {},
   "source": [
    "## Simulating independent variables\n",
    "\n",
    "Independent variables can be simulated directly. We use the percentile-point function - or ppf - of the object to map the random number input into random variates of 1 and 0; these represent instances of where the variable has (1) or has not occurred (0).\n",
    "\n",
    "We can demo this for the variables B and E. Starting with an empty dataframe, we iterate over the independent variables and join the output into a single dataframe."
   ]
  },
  {
   "cell_type": "code",
   "execution_count": 574,
   "id": "3046e435",
   "metadata": {
    "ExecuteTime": {
     "end_time": "2023-12-03T14:46:20.637611Z",
     "start_time": "2023-12-03T14:46:20.448184Z"
    }
   },
   "outputs": [
    {
     "data": {
      "text/html": [
       "<div>\n",
       "<style scoped>\n",
       "    .dataframe tbody tr th:only-of-type {\n",
       "        vertical-align: middle;\n",
       "    }\n",
       "\n",
       "    .dataframe tbody tr th {\n",
       "        vertical-align: top;\n",
       "    }\n",
       "\n",
       "    .dataframe thead th {\n",
       "        text-align: right;\n",
       "    }\n",
       "</style>\n",
       "<table border=\"1\" class=\"dataframe\">\n",
       "  <thead>\n",
       "    <tr style=\"text-align: right;\">\n",
       "      <th></th>\n",
       "      <th>B</th>\n",
       "      <th>E</th>\n",
       "    </tr>\n",
       "  </thead>\n",
       "  <tbody>\n",
       "    <tr>\n",
       "      <th>0</th>\n",
       "      <td>0</td>\n",
       "      <td>0</td>\n",
       "    </tr>\n",
       "    <tr>\n",
       "      <th>1</th>\n",
       "      <td>0</td>\n",
       "      <td>0</td>\n",
       "    </tr>\n",
       "    <tr>\n",
       "      <th>2</th>\n",
       "      <td>0</td>\n",
       "      <td>0</td>\n",
       "    </tr>\n",
       "    <tr>\n",
       "      <th>3</th>\n",
       "      <td>0</td>\n",
       "      <td>0</td>\n",
       "    </tr>\n",
       "    <tr>\n",
       "      <th>4</th>\n",
       "      <td>0</td>\n",
       "      <td>0</td>\n",
       "    </tr>\n",
       "    <tr>\n",
       "      <th>...</th>\n",
       "      <td>...</td>\n",
       "      <td>...</td>\n",
       "    </tr>\n",
       "    <tr>\n",
       "      <th>99995</th>\n",
       "      <td>0</td>\n",
       "      <td>0</td>\n",
       "    </tr>\n",
       "    <tr>\n",
       "      <th>99996</th>\n",
       "      <td>0</td>\n",
       "      <td>0</td>\n",
       "    </tr>\n",
       "    <tr>\n",
       "      <th>99997</th>\n",
       "      <td>0</td>\n",
       "      <td>0</td>\n",
       "    </tr>\n",
       "    <tr>\n",
       "      <th>99998</th>\n",
       "      <td>0</td>\n",
       "      <td>0</td>\n",
       "    </tr>\n",
       "    <tr>\n",
       "      <th>99999</th>\n",
       "      <td>0</td>\n",
       "      <td>0</td>\n",
       "    </tr>\n",
       "  </tbody>\n",
       "</table>\n",
       "<p>100000 rows × 2 columns</p>\n",
       "</div>"
      ],
      "text/plain": [
       "       B  E\n",
       "0      0  0\n",
       "1      0  0\n",
       "2      0  0\n",
       "3      0  0\n",
       "4      0  0\n",
       "...   .. ..\n",
       "99995  0  0\n",
       "99996  0  0\n",
       "99997  0  0\n",
       "99998  0  0\n",
       "99999  0  0\n",
       "\n",
       "[100000 rows x 2 columns]"
      ]
     },
     "execution_count": 574,
     "metadata": {},
     "output_type": "execute_result"
    }
   ],
   "source": [
    "random_variates = pd.DataFrame()\n",
    "for var in ['B', 'E']:\n",
    "    if len(conditional_distributions[var])==1:\n",
    "        # no condtionals, append to existing output\n",
    "        random_variates = pd.concat([random_variates,\n",
    "                                     pd.DataFrame({var: conditional_distributions[var][0].ppf(random_numbers[var])})],\n",
    "                                     axis=1)\n",
    "    else:\n",
    "        # to be defined\n",
    "        pass\n",
    "    \n",
    "random_variates"
   ]
  },
  {
   "cell_type": "markdown",
   "id": "ef6156fc",
   "metadata": {},
   "source": [
    "Due to the low probabilities that a burglary or earthquake occurs, the arrays are mostly zeros. We can sense check that the results are correct by summing the arrays. Given probabilities of 0.1% and 0.2%, respectively, for burglaries and earthquakes, we would expect sums of close to 10 and 20."
   ]
  },
  {
   "cell_type": "code",
   "execution_count": 575,
   "id": "08d1f64e",
   "metadata": {
    "ExecuteTime": {
     "end_time": "2023-12-03T14:46:20.652632Z",
     "start_time": "2023-12-03T14:46:20.640626Z"
    }
   },
   "outputs": [
    {
     "data": {
      "text/plain": [
       "B     91\n",
       "E    194\n",
       "dtype: int64"
      ]
     },
     "execution_count": 575,
     "metadata": {},
     "output_type": "execute_result"
    }
   ],
   "source": [
    "random_variates.sum()"
   ]
  },
  {
   "cell_type": "markdown",
   "id": "0737954d",
   "metadata": {},
   "source": [
    "## Simulating conditional variables\n",
    "\n",
    "Simulating conditional variables is a little more involved. We apply a two step approach, where we simluate conditional distributions as we did for the independent variables, but also use simulate the actual events. The latter requires the random variates constructed to date. \n",
    "\n",
    "We will demo this with the alarm variable, A."
   ]
  },
  {
   "cell_type": "code",
   "execution_count": 576,
   "id": "2c63a1b9",
   "metadata": {
    "ExecuteTime": {
     "end_time": "2023-12-03T14:46:20.667635Z",
     "start_time": "2023-12-03T14:46:20.655622Z"
    }
   },
   "outputs": [],
   "source": [
    "var = 'A'"
   ]
  },
  {
   "cell_type": "markdown",
   "id": "72e57d33",
   "metadata": {},
   "source": [
    "### Conditional random variates\n",
    "\n",
    "Create a Pandas dataframe for each conditional distribution, using the list of conditionals as the column keys. There are lots of 1s, which indicate the alarm going off, but these are contingent on one or both of a burglary or earthquake occurring. "
   ]
  },
  {
   "cell_type": "code",
   "execution_count": 577,
   "id": "24e0bcea",
   "metadata": {
    "ExecuteTime": {
     "end_time": "2023-12-03T14:46:21.799563Z",
     "start_time": "2023-12-03T14:46:20.670613Z"
    }
   },
   "outputs": [
    {
     "data": {
      "text/html": [
       "<div>\n",
       "<style scoped>\n",
       "    .dataframe tbody tr th:only-of-type {\n",
       "        vertical-align: middle;\n",
       "    }\n",
       "\n",
       "    .dataframe tbody tr th {\n",
       "        vertical-align: top;\n",
       "    }\n",
       "\n",
       "    .dataframe thead th {\n",
       "        text-align: right;\n",
       "    }\n",
       "</style>\n",
       "<table border=\"1\" class=\"dataframe\">\n",
       "  <thead>\n",
       "    <tr style=\"text-align: right;\">\n",
       "      <th></th>\n",
       "      <th>[('B', 0), ('E', 0)]</th>\n",
       "      <th>[('B', 0), ('E', 1)]</th>\n",
       "      <th>[('B', 1), ('E', 0)]</th>\n",
       "      <th>[('B', 1), ('E', 1)]</th>\n",
       "    </tr>\n",
       "  </thead>\n",
       "  <tbody>\n",
       "    <tr>\n",
       "      <th>0</th>\n",
       "      <td>0</td>\n",
       "      <td>1</td>\n",
       "      <td>1</td>\n",
       "      <td>1</td>\n",
       "    </tr>\n",
       "    <tr>\n",
       "      <th>1</th>\n",
       "      <td>0</td>\n",
       "      <td>1</td>\n",
       "      <td>1</td>\n",
       "      <td>1</td>\n",
       "    </tr>\n",
       "    <tr>\n",
       "      <th>2</th>\n",
       "      <td>0</td>\n",
       "      <td>1</td>\n",
       "      <td>1</td>\n",
       "      <td>1</td>\n",
       "    </tr>\n",
       "    <tr>\n",
       "      <th>3</th>\n",
       "      <td>0</td>\n",
       "      <td>0</td>\n",
       "      <td>1</td>\n",
       "      <td>1</td>\n",
       "    </tr>\n",
       "    <tr>\n",
       "      <th>4</th>\n",
       "      <td>0</td>\n",
       "      <td>0</td>\n",
       "      <td>1</td>\n",
       "      <td>1</td>\n",
       "    </tr>\n",
       "    <tr>\n",
       "      <th>...</th>\n",
       "      <td>...</td>\n",
       "      <td>...</td>\n",
       "      <td>...</td>\n",
       "      <td>...</td>\n",
       "    </tr>\n",
       "    <tr>\n",
       "      <th>99995</th>\n",
       "      <td>0</td>\n",
       "      <td>0</td>\n",
       "      <td>1</td>\n",
       "      <td>1</td>\n",
       "    </tr>\n",
       "    <tr>\n",
       "      <th>99996</th>\n",
       "      <td>0</td>\n",
       "      <td>0</td>\n",
       "      <td>1</td>\n",
       "      <td>1</td>\n",
       "    </tr>\n",
       "    <tr>\n",
       "      <th>99997</th>\n",
       "      <td>0</td>\n",
       "      <td>0</td>\n",
       "      <td>1</td>\n",
       "      <td>1</td>\n",
       "    </tr>\n",
       "    <tr>\n",
       "      <th>99998</th>\n",
       "      <td>0</td>\n",
       "      <td>0</td>\n",
       "      <td>1</td>\n",
       "      <td>1</td>\n",
       "    </tr>\n",
       "    <tr>\n",
       "      <th>99999</th>\n",
       "      <td>0</td>\n",
       "      <td>1</td>\n",
       "      <td>1</td>\n",
       "      <td>1</td>\n",
       "    </tr>\n",
       "  </tbody>\n",
       "</table>\n",
       "<p>100000 rows × 4 columns</p>\n",
       "</div>"
      ],
      "text/plain": [
       "       [('B', 0), ('E', 0)]  [('B', 0), ('E', 1)]  [('B', 1), ('E', 0)]  \\\n",
       "0                         0                     1                     1   \n",
       "1                         0                     1                     1   \n",
       "2                         0                     1                     1   \n",
       "3                         0                     0                     1   \n",
       "4                         0                     0                     1   \n",
       "...                     ...                   ...                   ...   \n",
       "99995                     0                     0                     1   \n",
       "99996                     0                     0                     1   \n",
       "99997                     0                     0                     1   \n",
       "99998                     0                     0                     1   \n",
       "99999                     0                     1                     1   \n",
       "\n",
       "       [('B', 1), ('E', 1)]  \n",
       "0                         1  \n",
       "1                         1  \n",
       "2                         1  \n",
       "3                         1  \n",
       "4                         1  \n",
       "...                     ...  \n",
       "99995                     1  \n",
       "99996                     1  \n",
       "99997                     1  \n",
       "99998                     1  \n",
       "99999                     1  \n",
       "\n",
       "[100000 rows x 4 columns]"
      ]
     },
     "execution_count": 577,
     "metadata": {},
     "output_type": "execute_result"
    }
   ],
   "source": [
    "conditional_random_variates = pd.concat([\n",
    "    pd.DataFrame({str(cd.conditionals): cd.ppf(random_numbers[var])}) for cd in conditional_distributions[var]\n",
    "], axis=1)\n",
    "\n",
    "conditional_random_variates\n"
   ]
  },
  {
   "cell_type": "code",
   "execution_count": 578,
   "id": "c2561062",
   "metadata": {
    "ExecuteTime": {
     "end_time": "2023-12-03T14:46:21.814564Z",
     "start_time": "2023-12-03T14:46:21.803565Z"
    }
   },
   "outputs": [
    {
     "data": {
      "text/plain": [
       "[('B', 0), ('E', 0)]      107\n",
       "[('B', 0), ('E', 1)]    29109\n",
       "[('B', 1), ('E', 0)]    94086\n",
       "[('B', 1), ('E', 1)]    95103\n",
       "dtype: int64"
      ]
     },
     "execution_count": 578,
     "metadata": {},
     "output_type": "execute_result"
    }
   ],
   "source": [
    "conditional_random_variates.sum()\n",
    "# conditional_random_variates.to_clipboard()"
   ]
  },
  {
   "cell_type": "markdown",
   "id": "b3e967d3",
   "metadata": {},
   "source": [
    "### Actual events\n",
    "\n",
    "Use the same format - a Pandas dataframe with the conditionals as column keys - to create the array of actual events. This is again a series of 1s and 0s, but these represent whether a conditional event has occurred. e.g. whether there has been no burglary and no earthquake.\n",
    "\n",
    "For this purpose we first define a separate function to generate the actual events."
   ]
  },
  {
   "cell_type": "code",
   "execution_count": 579,
   "id": "f9bcccf8",
   "metadata": {
    "ExecuteTime": {
     "end_time": "2023-12-03T14:46:21.846568Z",
     "start_time": "2023-12-03T14:46:21.817567Z"
    }
   },
   "outputs": [],
   "source": [
    "def generate_actual_events(conditionals: List[Tuple[str,int]], random_variates: pd.DataFrame) -> np.array:\n",
    "    \"\"\"\n",
    "    Given a list of conditional (variable, value) pairs and a dataframe of random variates (1s and 0s),\n",
    "    this function generates flags for whether the conditional is met\n",
    "    e.g. given [('B', 0),('E', 0)], the return value is 1 where B and E are 0, and 0 elsewhere.\n",
    "    \n",
    "    Return Numpy array of 1s and 0s.\n",
    "    \"\"\"\n",
    "    number_conditionals = len(conditionals)\n",
    "    number_variates = random_variates.shape[0]\n",
    "    outcomes = np.zeros((number_variates,number_conditionals)).astype(int)\n",
    "    for i,(variable, value) in enumerate(conditionals):\n",
    "        outcomes[:,i] = (random_variates[variable]==value)*1\n",
    "\n",
    "    return np.product(outcomes, axis=1)\n",
    "\n",
    "\n",
    "assert np.all(generate_actual_events(conditionals=[('B', 0),('E', 0)], random_variates=pd.DataFrame({'B':[0, 0, 1, 1],\n",
    "                                'E':[0, 1, 0, 1]})) == np.array([1, 0, 0, 0]))"
   ]
  },
  {
   "cell_type": "markdown",
   "id": "df04e81d",
   "metadata": {},
   "source": [
    "Now apply the same pattern as before."
   ]
  },
  {
   "cell_type": "code",
   "execution_count": 580,
   "id": "d63b7b48",
   "metadata": {
    "ExecuteTime": {
     "end_time": "2023-12-03T14:46:21.909570Z",
     "start_time": "2023-12-03T14:46:21.849572Z"
    }
   },
   "outputs": [
    {
     "data": {
      "text/html": [
       "<div>\n",
       "<style scoped>\n",
       "    .dataframe tbody tr th:only-of-type {\n",
       "        vertical-align: middle;\n",
       "    }\n",
       "\n",
       "    .dataframe tbody tr th {\n",
       "        vertical-align: top;\n",
       "    }\n",
       "\n",
       "    .dataframe thead th {\n",
       "        text-align: right;\n",
       "    }\n",
       "</style>\n",
       "<table border=\"1\" class=\"dataframe\">\n",
       "  <thead>\n",
       "    <tr style=\"text-align: right;\">\n",
       "      <th></th>\n",
       "      <th>[('B', 0), ('E', 0)]</th>\n",
       "      <th>[('B', 0), ('E', 1)]</th>\n",
       "      <th>[('B', 1), ('E', 0)]</th>\n",
       "      <th>[('B', 1), ('E', 1)]</th>\n",
       "    </tr>\n",
       "  </thead>\n",
       "  <tbody>\n",
       "    <tr>\n",
       "      <th>0</th>\n",
       "      <td>1</td>\n",
       "      <td>0</td>\n",
       "      <td>0</td>\n",
       "      <td>0</td>\n",
       "    </tr>\n",
       "    <tr>\n",
       "      <th>1</th>\n",
       "      <td>1</td>\n",
       "      <td>0</td>\n",
       "      <td>0</td>\n",
       "      <td>0</td>\n",
       "    </tr>\n",
       "    <tr>\n",
       "      <th>2</th>\n",
       "      <td>1</td>\n",
       "      <td>0</td>\n",
       "      <td>0</td>\n",
       "      <td>0</td>\n",
       "    </tr>\n",
       "    <tr>\n",
       "      <th>3</th>\n",
       "      <td>1</td>\n",
       "      <td>0</td>\n",
       "      <td>0</td>\n",
       "      <td>0</td>\n",
       "    </tr>\n",
       "    <tr>\n",
       "      <th>4</th>\n",
       "      <td>1</td>\n",
       "      <td>0</td>\n",
       "      <td>0</td>\n",
       "      <td>0</td>\n",
       "    </tr>\n",
       "    <tr>\n",
       "      <th>...</th>\n",
       "      <td>...</td>\n",
       "      <td>...</td>\n",
       "      <td>...</td>\n",
       "      <td>...</td>\n",
       "    </tr>\n",
       "    <tr>\n",
       "      <th>99995</th>\n",
       "      <td>1</td>\n",
       "      <td>0</td>\n",
       "      <td>0</td>\n",
       "      <td>0</td>\n",
       "    </tr>\n",
       "    <tr>\n",
       "      <th>99996</th>\n",
       "      <td>1</td>\n",
       "      <td>0</td>\n",
       "      <td>0</td>\n",
       "      <td>0</td>\n",
       "    </tr>\n",
       "    <tr>\n",
       "      <th>99997</th>\n",
       "      <td>1</td>\n",
       "      <td>0</td>\n",
       "      <td>0</td>\n",
       "      <td>0</td>\n",
       "    </tr>\n",
       "    <tr>\n",
       "      <th>99998</th>\n",
       "      <td>1</td>\n",
       "      <td>0</td>\n",
       "      <td>0</td>\n",
       "      <td>0</td>\n",
       "    </tr>\n",
       "    <tr>\n",
       "      <th>99999</th>\n",
       "      <td>1</td>\n",
       "      <td>0</td>\n",
       "      <td>0</td>\n",
       "      <td>0</td>\n",
       "    </tr>\n",
       "  </tbody>\n",
       "</table>\n",
       "<p>100000 rows × 4 columns</p>\n",
       "</div>"
      ],
      "text/plain": [
       "       [('B', 0), ('E', 0)]  [('B', 0), ('E', 1)]  [('B', 1), ('E', 0)]  \\\n",
       "0                         1                     0                     0   \n",
       "1                         1                     0                     0   \n",
       "2                         1                     0                     0   \n",
       "3                         1                     0                     0   \n",
       "4                         1                     0                     0   \n",
       "...                     ...                   ...                   ...   \n",
       "99995                     1                     0                     0   \n",
       "99996                     1                     0                     0   \n",
       "99997                     1                     0                     0   \n",
       "99998                     1                     0                     0   \n",
       "99999                     1                     0                     0   \n",
       "\n",
       "       [('B', 1), ('E', 1)]  \n",
       "0                         0  \n",
       "1                         0  \n",
       "2                         0  \n",
       "3                         0  \n",
       "4                         0  \n",
       "...                     ...  \n",
       "99995                     0  \n",
       "99996                     0  \n",
       "99997                     0  \n",
       "99998                     0  \n",
       "99999                     0  \n",
       "\n",
       "[100000 rows x 4 columns]"
      ]
     },
     "execution_count": 580,
     "metadata": {},
     "output_type": "execute_result"
    }
   ],
   "source": [
    "actual_events = pd.concat([\n",
    "    pd.DataFrame({str(cd.conditionals): generate_actual_events(cd.conditionals, random_variates)}) for cd in conditional_distributions[var]\n",
    "], axis=1)\n",
    "\n",
    "actual_events\n"
   ]
  },
  {
   "cell_type": "markdown",
   "id": "2b2daa09",
   "metadata": {},
   "source": [
    "The count of actual events is another sense check. 99.7% of the time there is no burglary or earthquake."
   ]
  },
  {
   "cell_type": "code",
   "execution_count": 581,
   "id": "675228d5",
   "metadata": {
    "ExecuteTime": {
     "end_time": "2023-12-03T14:46:21.925571Z",
     "start_time": "2023-12-03T14:46:21.912573Z"
    }
   },
   "outputs": [
    {
     "data": {
      "text/plain": [
       "[('B', 0), ('E', 0)]    99715\n",
       "[('B', 0), ('E', 1)]      194\n",
       "[('B', 1), ('E', 0)]       91\n",
       "[('B', 1), ('E', 1)]        0\n",
       "dtype: int64"
      ]
     },
     "execution_count": 581,
     "metadata": {},
     "output_type": "execute_result"
    }
   ],
   "source": [
    "actual_events.sum()"
   ]
  },
  {
   "cell_type": "markdown",
   "id": "11d1a5eb",
   "metadata": {},
   "source": [
    "###  Multiply and row-sum\n",
    "\n",
    "The final step is to multiply then row-sum the two dataframes together. Multiplying the two together gives the random variates for the variable, in this case the alarm, A. It is no longer conditional, since the actual events have acted as a filter, by zeroising all but one entry. It can be a little confusing that the entry which is not zeroised, may also be zero.\n",
    "\n",
    "Applying a row-sum returns this as the simulated value for A. We can then join this to the independent random variates already created for B and E."
   ]
  },
  {
   "cell_type": "code",
   "execution_count": 582,
   "id": "d6249024",
   "metadata": {
    "ExecuteTime": {
     "end_time": "2023-12-03T14:46:21.957596Z",
     "start_time": "2023-12-03T14:46:21.928575Z"
    }
   },
   "outputs": [
    {
     "data": {
      "text/plain": [
       "B     91\n",
       "E    194\n",
       "A    250\n",
       "dtype: int64"
      ]
     },
     "execution_count": 582,
     "metadata": {},
     "output_type": "execute_result"
    }
   ],
   "source": [
    "random_variates_A = pd.DataFrame({'A':(conditional_random_variates*actual_events).sum(axis=1)})\n",
    "random_variates = pd.concat([random_variates, random_variates_A], axis=1)\n",
    "random_variates.sum()"
   ]
  },
  {
   "cell_type": "markdown",
   "id": "a8b714a0",
   "metadata": {},
   "source": [
    "## Combining independent and conditional variables\n",
    "\n",
    "Now we can simulate both variable types separately."
   ]
  },
  {
   "cell_type": "markdown",
   "id": "50fc31b7",
   "metadata": {},
   "source": []
  },
  {
   "cell_type": "code",
   "execution_count": 583,
   "id": "f8156839",
   "metadata": {
    "ExecuteTime": {
     "end_time": "2023-12-03T14:46:24.186928Z",
     "start_time": "2023-12-03T14:46:21.960591Z"
    }
   },
   "outputs": [
    {
     "data": {
      "text/plain": [
       "B      91\n",
       "E     194\n",
       "A     250\n",
       "M    1191\n",
       "J    5120\n",
       "dtype: int64"
      ]
     },
     "execution_count": 583,
     "metadata": {},
     "output_type": "execute_result"
    }
   ],
   "source": [
    "random_variates = pd.DataFrame()\n",
    "for var in ['B', 'E', 'A', 'M', 'J']:\n",
    "    if len(conditional_distributions[var])==1:\n",
    "        # no condtionals, append to existing output\n",
    "        random_variates = pd.concat([random_variates,\n",
    "                                     pd.DataFrame({var: conditional_distributions[var][0].ppf(random_numbers[var])})],\n",
    "                                     axis=1)\n",
    "    else:\n",
    "        conditional_random_variates = pd.concat([\n",
    "            pd.DataFrame({str(cd.conditionals): cd.ppf(random_numbers[var])}) for cd in conditional_distributions[var]\n",
    "        ], axis=1)\n",
    "        \n",
    "        actual_events = pd.concat([\n",
    "            pd.DataFrame({str(cd.conditionals): generate_actual_events(cd.conditionals, random_variates)}) for cd in conditional_distributions[var]\n",
    "        ], axis=1)\n",
    "        \n",
    "        random_variates = pd.concat([random_variates, \n",
    "                                     pd.DataFrame({var:(conditional_random_variates*actual_events).sum(axis=1)})], \n",
    "                                    axis=1)\n",
    "        \n",
    "        \n",
    "    \n",
    "random_variates.sum()"
   ]
  },
  {
   "cell_type": "markdown",
   "id": "e6b36470",
   "metadata": {},
   "source": [
    "### Adding non-events\n",
    "\n",
    "What can be useful to consider is non-events e.g. the event that an earthquake did not happen. Given the random variates output, this is straightforward. "
   ]
  },
  {
   "cell_type": "code",
   "execution_count": 584,
   "id": "b478dc40",
   "metadata": {
    "ExecuteTime": {
     "end_time": "2023-12-03T14:46:24.234930Z",
     "start_time": "2023-12-03T14:46:24.191928Z"
    }
   },
   "outputs": [
    {
     "data": {
      "text/plain": [
       "B        91\n",
       "E       194\n",
       "A       250\n",
       "M      1191\n",
       "J      5120\n",
       "¬B    99909\n",
       "¬E    99806\n",
       "¬A    99750\n",
       "¬M    98809\n",
       "¬J    94880\n",
       "dtype: int64"
      ]
     },
     "execution_count": 584,
     "metadata": {},
     "output_type": "execute_result"
    }
   ],
   "source": [
    "random_variates_negation = random_variates.copy()\n",
    "random_variates_negation.columns = ['¬'+x for x in random_variates_negation.columns]\n",
    "random_variates_negation = 1-random_variates_negation\n",
    "\n",
    "random_variates = pd.concat([random_variates, random_variates_negation], axis=1)\n",
    "random_variates.sum()"
   ]
  },
  {
   "cell_type": "markdown",
   "id": "0d7520d5",
   "metadata": {},
   "source": [
    "# Interpreting the output from a Bayes network"
   ]
  },
  {
   "cell_type": "markdown",
   "id": "71c1959b",
   "metadata": {},
   "source": []
  },
  {
   "cell_type": "markdown",
   "id": "92eef60b",
   "metadata": {},
   "source": [
    "## Approximating P(X|Y)"
   ]
  },
  {
   "cell_type": "code",
   "execution_count": 585,
   "id": "bd55dd00",
   "metadata": {
    "ExecuteTime": {
     "end_time": "2023-12-03T14:46:24.410954Z",
     "start_time": "2023-12-03T14:46:24.236932Z"
    }
   },
   "outputs": [],
   "source": [
    "all_vars = random_variates.columns\n",
    "count_x_and_y = {}\n",
    "count_y = {}\n",
    "for y in all_vars:\n",
    "    count_y[y] = random_variates[y].sum()\n",
    "    for x in all_vars:\n",
    "            count_x_and_y[(x,y)] = (random_variates[x] * random_variates[y]).sum()\n",
    "        \n",
    "full_names = {\n",
    "    'B': 'Burglary',\n",
    "    'E': 'Earthquake',\n",
    "    'A': 'Alarm',\n",
    "    'M': 'Mary calls',\n",
    "    'J': 'John Calls',\n",
    "    '¬B': 'No burglary',\n",
    "    '¬E': 'No earthquake',\n",
    "    '¬A': 'No alarm',\n",
    "    '¬M': 'Mary does not call',\n",
    "    '¬J': 'John does not call'\n",
    "}\n",
    "        \n",
    "summary_probabilities_df = pd.concat([pd.DataFrame({\n",
    "    'Label': f'P({x}|{y})',\n",
    "    'Event X': full_names[x],\n",
    "    'Event Y': full_names[y],\n",
    "    'Count X & Y': cxy,\n",
    "    'Count Y': count_y[y],\n",
    "    'Estimate for P(X|Y)': cxy / count_y[y]\n",
    "}, index=[0]) for ((x,y),cxy) in count_x_and_y.items()])\n",
    "\n",
    "summary_probabilities_df.set_index('Label', inplace=True)"
   ]
  },
  {
   "cell_type": "markdown",
   "id": "a0b6b9f1",
   "metadata": {
    "ExecuteTime": {
     "end_time": "2023-12-03T14:21:07.789752Z",
     "start_time": "2023-12-03T14:21:07.775750Z"
    }
   },
   "source": [
    "Should the homeowner be concerned about a burglary or an earthquake if Mary or John call? Not hugely. But what if both neighbours call?"
   ]
  },
  {
   "cell_type": "code",
   "execution_count": 586,
   "id": "40aa0308",
   "metadata": {
    "ExecuteTime": {
     "end_time": "2023-12-03T14:46:24.442947Z",
     "start_time": "2023-12-03T14:46:24.412946Z"
    }
   },
   "outputs": [
    {
     "data": {
      "text/html": [
       "<div>\n",
       "<style scoped>\n",
       "    .dataframe tbody tr th:only-of-type {\n",
       "        vertical-align: middle;\n",
       "    }\n",
       "\n",
       "    .dataframe tbody tr th {\n",
       "        vertical-align: top;\n",
       "    }\n",
       "\n",
       "    .dataframe thead th {\n",
       "        text-align: right;\n",
       "    }\n",
       "</style>\n",
       "<table border=\"1\" class=\"dataframe\">\n",
       "  <thead>\n",
       "    <tr style=\"text-align: right;\">\n",
       "      <th></th>\n",
       "      <th>Event X</th>\n",
       "      <th>Event Y</th>\n",
       "      <th>Count X &amp; Y</th>\n",
       "      <th>Count Y</th>\n",
       "      <th>Estimate for P(X|Y)</th>\n",
       "    </tr>\n",
       "    <tr>\n",
       "      <th>Label</th>\n",
       "      <th></th>\n",
       "      <th></th>\n",
       "      <th></th>\n",
       "      <th></th>\n",
       "      <th></th>\n",
       "    </tr>\n",
       "  </thead>\n",
       "  <tbody>\n",
       "    <tr>\n",
       "      <th>P(B|M)</th>\n",
       "      <td>Burglary</td>\n",
       "      <td>Mary calls</td>\n",
       "      <td>52</td>\n",
       "      <td>1191</td>\n",
       "      <td>0.043661</td>\n",
       "    </tr>\n",
       "    <tr>\n",
       "      <th>P(E|M)</th>\n",
       "      <td>Earthquake</td>\n",
       "      <td>Mary calls</td>\n",
       "      <td>44</td>\n",
       "      <td>1191</td>\n",
       "      <td>0.036944</td>\n",
       "    </tr>\n",
       "    <tr>\n",
       "      <th>P(B|J)</th>\n",
       "      <td>Burglary</td>\n",
       "      <td>John Calls</td>\n",
       "      <td>78</td>\n",
       "      <td>5120</td>\n",
       "      <td>0.015234</td>\n",
       "    </tr>\n",
       "    <tr>\n",
       "      <th>P(E|J)</th>\n",
       "      <td>Earthquake</td>\n",
       "      <td>John Calls</td>\n",
       "      <td>62</td>\n",
       "      <td>5120</td>\n",
       "      <td>0.012109</td>\n",
       "    </tr>\n",
       "  </tbody>\n",
       "</table>\n",
       "</div>"
      ],
      "text/plain": [
       "           Event X     Event Y  Count X & Y  Count Y  Estimate for P(X|Y)\n",
       "Label                                                                    \n",
       "P(B|M)    Burglary  Mary calls           52     1191             0.043661\n",
       "P(E|M)  Earthquake  Mary calls           44     1191             0.036944\n",
       "P(B|J)    Burglary  John Calls           78     5120             0.015234\n",
       "P(E|J)  Earthquake  John Calls           62     5120             0.012109"
      ]
     },
     "execution_count": 586,
     "metadata": {},
     "output_type": "execute_result"
    }
   ],
   "source": [
    "summary_probabilities_df.loc[['P(B|M)', 'P(E|M)', 'P(B|J)', 'P(E|J)'],:]"
   ]
  },
  {
   "cell_type": "markdown",
   "id": "4141b2e4",
   "metadata": {},
   "source": [
    "## Generalise to any event combinations\n",
    "\n",
    "The code above generates all X-Y combinations for single variables, including their negations. In general we will also be interested in combinations of events. For the alarm example, the homeowner may be interested in the probability of a burglary given that both Mary and John call.\n",
    "\n",
    "The approach is similar to above, except we specify the events via a list. Using the same terminology as above, we will use X to represent the event that a burglary has occured, and Y as the event that both Mary and John have called. We could also create the combined events into new variables, as we did for negation, then allow the code above to capture all combinations.\n",
    "\n",
    "As the size of the network increases, it may not be possible, or practical, to print every X-Y combination, including negations and pairs, triples or higher. Hence having an easy way to estimate soecific probabilities in a generic manner remains useful. "
   ]
  },
  {
   "cell_type": "code",
   "execution_count": 587,
   "id": "625c7a97",
   "metadata": {
    "ExecuteTime": {
     "end_time": "2023-12-03T14:46:24.474949Z",
     "start_time": "2023-12-03T14:46:24.445951Z"
    }
   },
   "outputs": [
    {
     "name": "stdout",
     "output_type": "stream",
     "text": [
      "Number of times both neighbours call:                          202\n",
      "Number of times both neighbours call, and there is a burglary: 48\n",
      "Estimated probability of burglary given both call:             0.24\n"
     ]
    }
   ],
   "source": [
    "x = ['B']\n",
    "y = ['M', 'J']\n",
    "x_and_y = x + y\n",
    "\n",
    "count_y = np.product(random_variates.loc[:,y], axis=1).sum()\n",
    "count_x_and_y = np.product(random_variates.loc[:,x_and_y], axis=1).sum()\n",
    "\n",
    "print(f'Number of times both neighbours call:                          {count_y}')\n",
    "print(f'Number of times both neighbours call, and there is a burglary: {count_x_and_y}')\n",
    "print(f'Estimated probability of burglary given both call:             {count_x_and_y / count_y :.2f}')"
   ]
  },
  {
   "cell_type": "markdown",
   "id": "4db0f162",
   "metadata": {
    "ExecuteTime": {
     "end_time": "2023-12-03T14:24:32.824640Z",
     "start_time": "2023-12-03T14:24:32.808643Z"
    }
   },
   "source": [
    "So still unlikely to be a burglary, but "
   ]
  },
  {
   "cell_type": "markdown",
   "id": "5499c3f2",
   "metadata": {},
   "source": [
    "<!-- # Parsing conditional probabilities to initialise a Bayes net -->"
   ]
  },
  {
   "cell_type": "markdown",
   "id": "884d435b",
   "metadata": {},
   "source": [
    "# Visualising results"
   ]
  },
  {
   "cell_type": "markdown",
   "id": "6bcf64c2",
   "metadata": {},
   "source": [
    "# Inference from simulation"
   ]
  },
  {
   "cell_type": "markdown",
   "id": "b1aa9a06",
   "metadata": {},
   "source": [
    "# Testing the implementation"
   ]
  },
  {
   "cell_type": "markdown",
   "id": "6d7589f4",
   "metadata": {},
   "source": [
    "# Extending the implementation"
   ]
  },
  {
   "cell_type": "markdown",
   "id": "42939ebe",
   "metadata": {},
   "source": []
  },
  {
   "cell_type": "markdown",
   "id": "34cdfaee",
   "metadata": {},
   "source": [
    "notes\n",
    "- or functionality\n",
    "- max arg"
   ]
  }
 ],
 "metadata": {
  "kernelspec": {
   "display_name": "Python 3 (ipykernel)",
   "language": "python",
   "name": "python3"
  },
  "language_info": {
   "codemirror_mode": {
    "name": "ipython",
    "version": 3
   },
   "file_extension": ".py",
   "mimetype": "text/x-python",
   "name": "python",
   "nbconvert_exporter": "python",
   "pygments_lexer": "ipython3",
   "version": "3.7.11"
  },
  "toc": {
   "base_numbering": 1,
   "nav_menu": {},
   "number_sections": true,
   "sideBar": true,
   "skip_h1_title": false,
   "title_cell": "Table of Contents",
   "title_sidebar": "Contents",
   "toc_cell": false,
   "toc_position": {},
   "toc_section_display": true,
   "toc_window_display": true
  },
  "varInspector": {
   "cols": {
    "lenName": 16,
    "lenType": 16,
    "lenVar": 40
   },
   "kernels_config": {
    "python": {
     "delete_cmd_postfix": "",
     "delete_cmd_prefix": "del ",
     "library": "var_list.py",
     "varRefreshCmd": "print(var_dic_list())"
    },
    "r": {
     "delete_cmd_postfix": ") ",
     "delete_cmd_prefix": "rm(",
     "library": "var_list.r",
     "varRefreshCmd": "cat(var_dic_list()) "
    }
   },
   "types_to_exclude": [
    "module",
    "function",
    "builtin_function_or_method",
    "instance",
    "_Feature"
   ],
   "window_display": false
  }
 },
 "nbformat": 4,
 "nbformat_minor": 5
}
