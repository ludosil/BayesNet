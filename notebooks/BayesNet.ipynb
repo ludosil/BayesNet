{
 "cells": [
  {
   "cell_type": "markdown",
   "id": "d3be0d90",
   "metadata": {},
   "source": [
    "# What is a Bayes net?"
   ]
  },
  {
   "cell_type": "markdown",
   "id": "befce276",
   "metadata": {},
   "source": [
    "# Representing a Bayes net in code"
   ]
  },
  {
   "cell_type": "markdown",
   "id": "a145c55f",
   "metadata": {},
   "source": [
    "# Visualising a Bayes net"
   ]
  },
  {
   "cell_type": "markdown",
   "id": "78a95269",
   "metadata": {},
   "source": [
    "# Specifying the joint probability distribution via conditional probabilities"
   ]
  },
  {
   "cell_type": "markdown",
   "id": "a2692c4e",
   "metadata": {},
   "source": [
    "# Parsing conditional probabilities to initialise a Bayes net"
   ]
  },
  {
   "cell_type": "markdown",
   "id": "8bdf013a",
   "metadata": {},
   "source": [
    "# Simulating a Bayes net"
   ]
  },
  {
   "cell_type": "markdown",
   "id": "f9a5a9c0",
   "metadata": {},
   "source": [
    "# Visualising results"
   ]
  },
  {
   "cell_type": "markdown",
   "id": "1b7fe39e",
   "metadata": {},
   "source": [
    "# Inference from simulation"
   ]
  },
  {
   "cell_type": "markdown",
   "id": "5688e9fc",
   "metadata": {},
   "source": [
    "# Testing the implementation"
   ]
  },
  {
   "cell_type": "markdown",
   "id": "426afaa4",
   "metadata": {},
   "source": [
    "# Extending the implementation"
   ]
  },
  {
   "cell_type": "markdown",
   "id": "ab458f3a",
   "metadata": {},
   "source": []
  }
 ],
 "metadata": {
  "kernelspec": {
   "display_name": "Python 3 (ipykernel)",
   "language": "python",
   "name": "python3"
  },
  "language_info": {
   "codemirror_mode": {
    "name": "ipython",
    "version": 3
   },
   "file_extension": ".py",
   "mimetype": "text/x-python",
   "name": "python",
   "nbconvert_exporter": "python",
   "pygments_lexer": "ipython3",
   "version": "3.7.11"
  },
  "toc": {
   "base_numbering": 1,
   "nav_menu": {},
   "number_sections": true,
   "sideBar": true,
   "skip_h1_title": false,
   "title_cell": "Table of Contents",
   "title_sidebar": "Contents",
   "toc_cell": false,
   "toc_position": {},
   "toc_section_display": true,
   "toc_window_display": true
  },
  "varInspector": {
   "cols": {
    "lenName": 16,
    "lenType": 16,
    "lenVar": 40
   },
   "kernels_config": {
    "python": {
     "delete_cmd_postfix": "",
     "delete_cmd_prefix": "del ",
     "library": "var_list.py",
     "varRefreshCmd": "print(var_dic_list())"
    },
    "r": {
     "delete_cmd_postfix": ") ",
     "delete_cmd_prefix": "rm(",
     "library": "var_list.r",
     "varRefreshCmd": "cat(var_dic_list()) "
    }
   },
   "types_to_exclude": [
    "module",
    "function",
    "builtin_function_or_method",
    "instance",
    "_Feature"
   ],
   "window_display": false
  }
 },
 "nbformat": 4,
 "nbformat_minor": 5
}
