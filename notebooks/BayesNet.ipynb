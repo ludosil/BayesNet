{
 "cells": [
  {
   "cell_type": "markdown",
   "id": "9253e87a",
   "metadata": {},
   "source": [
    "# What is a Bayes net?\n",
    "\n",
    "A Bayes net - or Bayesian network - is a probabilistic graphical model, or PGM. It is a simple and intuitive way to represent a joint probability distribution by specifying conditional probability distributions for the underlying variables in the network. Bayes nets can represent both discrete and continuous variables, though we will focus initially on networks with only discrete variables. \n",
    "\n",
    "We'll use two toy examples to explore the implementation.\n",
    "\n",
    "1. The alarm network: https://github.com/jpmcarrilho/AIMA/blob/master/probability-4e.ipynb \n",
    "    _The story, from Judea Pearl, is that there is a house burglar alarm, which can be triggered by either a burglary or an earthquake. If the alarm sounds, one or both of the neighbors, John and Mary, might call the owner to say the alarm is sounding._\n",
    "\n",
    "2. This one also looked fun! https://www.cs.cmu.edu/afs/cs.cmu.edu/project/learn-43/lib/photoz/.g/web/glossary/bayesnet.html\n"
   ]
  },
  {
   "cell_type": "markdown",
   "id": "bef84ab6",
   "metadata": {},
   "source": [
    "# Representing a Bayes net in code\n",
    "\n",
    "Conceptually a Bayes net is simple; all we need is the node mappings, or dependencies, and the probabilities that define the conditional / unconditional probability distributions.  \n",
    "\n",
    "In terms of defining a structure, we will look to capture the key attributes.\n",
    "\n",
    "|Attribute |Description| \n",
    "|-----|-----|\n",
    "| _names_ |Maps a convenient shorthand node label to the to the full text e.g. A for Alarm  |\n",
    "|_dependencies_|Maps nodes to their dependents |\n",
    "|_parents_|Maps nodes to their parents |\n",
    "|_conditional_probabilities_|Maps nodes to their conditional probabilities |\n",
    "|_independent_nodes_|Set of nodes with no parents |\n",
    "|_leaf_nodes_|Set of nodes with no dependencies |"
   ]
  },
  {
   "cell_type": "markdown",
   "id": "2fd5a731",
   "metadata": {},
   "source": [
    "We can use a dataclass to represent this structure for the two examples. In this case we are constructing the network manually, but later we will generalise the process such that the structure can be generated from a minimal representation i.e. the conditional probabilities. For now the conditional probabilities will be set as None."
   ]
  },
  {
   "cell_type": "code",
   "execution_count": 43,
   "id": "1c5dabec",
   "metadata": {
    "ExecuteTime": {
     "end_time": "2023-11-29T13:59:19.828354Z",
     "start_time": "2023-11-29T13:59:19.804345Z"
    }
   },
   "outputs": [],
   "source": [
    "from dataclasses import dataclass\n",
    "\n",
    "\n",
    "@dataclass\n",
    "class BayesNet:\n",
    "    \"\"\"Class for representing a Bayes net.\"\"\"\n",
    "    names: dict\n",
    "    dependencies: dict\n",
    "    parents: dict\n",
    "    conditional_probabilities: dict\n",
    "    independent_nodes: set\n",
    "    leaf_nodes: set"
   ]
  },
  {
   "cell_type": "code",
   "execution_count": 44,
   "id": "0ff25d98",
   "metadata": {
    "ExecuteTime": {
     "end_time": "2023-11-29T13:59:19.844353Z",
     "start_time": "2023-11-29T13:59:19.828354Z"
    }
   },
   "outputs": [],
   "source": [
    "bayesnet_alarm = BayesNet(names={\n",
    "    'B': 'Burglary',\n",
    "    'E': 'Earthquake',\n",
    "    'A': 'Alarm',\n",
    "    'M': 'Mary calls',\n",
    "    'J': 'John calls'\n",
    "},\n",
    "    dependencies={\n",
    "    'B': ['A'],\n",
    "    'E': ['A'],\n",
    "    'A': ['M', 'J']\n",
    "},\n",
    "    parents={\n",
    "    'M': ['A'],\n",
    "    'J': ['A'],\n",
    "    'A': ['B', 'E']\n",
    "},\n",
    "    conditional_probabilities=None,\n",
    "    independent_nodes={'B', 'E'},\n",
    "    leaf_nodes={'M', 'J'})"
   ]
  },
  {
   "cell_type": "code",
   "execution_count": 45,
   "id": "75d8f730",
   "metadata": {
    "ExecuteTime": {
     "end_time": "2023-11-29T13:59:19.868373Z",
     "start_time": "2023-11-29T13:59:19.844353Z"
    }
   },
   "outputs": [],
   "source": [
    "bayesnet_mars = BayesNet(names={\n",
    "    'V': 'Visited Mars',\n",
    "    'C': 'Common cold',\n",
    "    'M': 'Martian death flu',\n",
    "    'R': 'Runny nose',\n",
    "    'H': 'Headache',\n",
    "    'S': 'Spontaneous combustion'\n",
    "},\n",
    "    dependencies={\n",
    "    'V': ['M'],\n",
    "    'M': ['R', 'H', 'S'],\n",
    "    'C': ['R', 'H']\n",
    "},\n",
    "    parents={\n",
    "    'R': ['C'],\n",
    "    'H': ['C', 'M'],\n",
    "    'S': ['M'],\n",
    "    'M': ['V']\n",
    "},\n",
    "    conditional_probabilities=None,\n",
    "    independent_nodes={'V', 'C'},\n",
    "    leaf_nodes={'R', 'H', 'S'})"
   ]
  },
  {
   "cell_type": "markdown",
   "id": "1a9b789d",
   "metadata": {},
   "source": [
    "# Visualising a Bayes net\n",
    "\n",
    "Seeing a network makes it easier to interpret. The package graphviz is a useful tool to help us; all we need to do is specify the nodes, and the edges between nodes, which we can extract from the attributes."
   ]
  },
  {
   "cell_type": "code",
   "execution_count": 46,
   "id": "2a8d85e7",
   "metadata": {
    "ExecuteTime": {
     "end_time": "2023-11-29T13:59:19.884365Z",
     "start_time": "2023-11-29T13:59:19.868373Z"
    }
   },
   "outputs": [],
   "source": [
    "import graphviz\n",
    "\n",
    "def visualise_bn(bn: BayesNet, use_full_names: bool):\n",
    "    \"\"\"Visualises Bayes net object.\"\"\"\n",
    "    g = graphviz.Digraph()\n",
    "    for node, next_nodes in bn.dependencies.items():\n",
    "        for nn in next_nodes:\n",
    "            if use_full_names:\n",
    "                g.edge(bn.names[node], bn.names[nn])\n",
    "            else:\n",
    "                g.edge(node, nn)\n",
    "    return g"
   ]
  },
  {
   "cell_type": "code",
   "execution_count": 47,
   "id": "f315bf4e",
   "metadata": {
    "ExecuteTime": {
     "end_time": "2023-11-29T13:59:20.156436Z",
     "start_time": "2023-11-29T13:59:19.884365Z"
    }
   },
   "outputs": [
    {
     "data": {
      "image/svg+xml": [
       "<?xml version=\"1.0\" encoding=\"UTF-8\" standalone=\"no\"?>\r\n",
       "<!DOCTYPE svg PUBLIC \"-//W3C//DTD SVG 1.1//EN\"\r\n",
       " \"http://www.w3.org/Graphics/SVG/1.1/DTD/svg11.dtd\">\r\n",
       "<!-- Generated by graphviz version 2.38.0 (20140413.2041)\r\n",
       " -->\r\n",
       "<!-- Title: %3 Pages: 1 -->\r\n",
       "<svg width=\"219pt\" height=\"188pt\"\r\n",
       " viewBox=\"0.00 0.00 219.44 188.00\" xmlns=\"http://www.w3.org/2000/svg\" xmlns:xlink=\"http://www.w3.org/1999/xlink\">\r\n",
       "<g id=\"graph0\" class=\"graph\" transform=\"scale(1 1) rotate(0) translate(4 184)\">\r\n",
       "<title>%3</title>\r\n",
       "<polygon fill=\"white\" stroke=\"none\" points=\"-4,4 -4,-184 215.441,-184 215.441,4 -4,4\"/>\r\n",
       "<!-- Burglary -->\r\n",
       "<g id=\"node1\" class=\"node\"><title>Burglary</title>\r\n",
       "<ellipse fill=\"none\" stroke=\"black\" cx=\"49.0957\" cy=\"-162\" rx=\"41.6928\" ry=\"18\"/>\r\n",
       "<text text-anchor=\"middle\" x=\"49.0957\" y=\"-158.3\" font-family=\"Times New Roman,serif\" font-size=\"14.00\">Burglary</text>\r\n",
       "</g>\r\n",
       "<!-- Alarm -->\r\n",
       "<g id=\"node2\" class=\"node\"><title>Alarm</title>\r\n",
       "<ellipse fill=\"none\" stroke=\"black\" cx=\"104.096\" cy=\"-90\" rx=\"32.4942\" ry=\"18\"/>\r\n",
       "<text text-anchor=\"middle\" x=\"104.096\" y=\"-86.3\" font-family=\"Times New Roman,serif\" font-size=\"14.00\">Alarm</text>\r\n",
       "</g>\r\n",
       "<!-- Burglary&#45;&gt;Alarm -->\r\n",
       "<g id=\"edge1\" class=\"edge\"><title>Burglary&#45;&gt;Alarm</title>\r\n",
       "<path fill=\"none\" stroke=\"black\" d=\"M61.8521,-144.765C68.893,-135.804 77.7645,-124.512 85.5579,-114.594\"/>\r\n",
       "<polygon fill=\"black\" stroke=\"black\" points=\"88.3608,-116.691 91.7869,-106.666 82.8565,-112.367 88.3608,-116.691\"/>\r\n",
       "</g>\r\n",
       "<!-- Mary calls -->\r\n",
       "<g id=\"node4\" class=\"node\"><title>Mary calls</title>\r\n",
       "<ellipse fill=\"none\" stroke=\"black\" cx=\"48.0957\" cy=\"-18\" rx=\"48.1917\" ry=\"18\"/>\r\n",
       "<text text-anchor=\"middle\" x=\"48.0957\" y=\"-14.3\" font-family=\"Times New Roman,serif\" font-size=\"14.00\">Mary calls</text>\r\n",
       "</g>\r\n",
       "<!-- Alarm&#45;&gt;Mary calls -->\r\n",
       "<g id=\"edge3\" class=\"edge\"><title>Alarm&#45;&gt;Mary calls</title>\r\n",
       "<path fill=\"none\" stroke=\"black\" d=\"M91.3885,-73.1159C84.4302,-64.4181 75.6543,-53.4483 67.8259,-43.6627\"/>\r\n",
       "<polygon fill=\"black\" stroke=\"black\" points=\"70.5136,-41.4196 61.5336,-35.7973 65.0476,-45.7925 70.5136,-41.4196\"/>\r\n",
       "</g>\r\n",
       "<!-- John calls -->\r\n",
       "<g id=\"node5\" class=\"node\"><title>John calls</title>\r\n",
       "<ellipse fill=\"none\" stroke=\"black\" cx=\"160.096\" cy=\"-18\" rx=\"46.2923\" ry=\"18\"/>\r\n",
       "<text text-anchor=\"middle\" x=\"160.096\" y=\"-14.3\" font-family=\"Times New Roman,serif\" font-size=\"14.00\">John calls</text>\r\n",
       "</g>\r\n",
       "<!-- Alarm&#45;&gt;John calls -->\r\n",
       "<g id=\"edge4\" class=\"edge\"><title>Alarm&#45;&gt;John calls</title>\r\n",
       "<path fill=\"none\" stroke=\"black\" d=\"M116.803,-73.1159C123.862,-64.292 132.792,-53.1298 140.705,-43.238\"/>\r\n",
       "<polygon fill=\"black\" stroke=\"black\" points=\"143.536,-45.3022 147.05,-35.307 138.07,-40.9293 143.536,-45.3022\"/>\r\n",
       "</g>\r\n",
       "<!-- Earthquake -->\r\n",
       "<g id=\"node3\" class=\"node\"><title>Earthquake</title>\r\n",
       "<ellipse fill=\"none\" stroke=\"black\" cx=\"160.096\" cy=\"-162\" rx=\"51.1914\" ry=\"18\"/>\r\n",
       "<text text-anchor=\"middle\" x=\"160.096\" y=\"-158.3\" font-family=\"Times New Roman,serif\" font-size=\"14.00\">Earthquake</text>\r\n",
       "</g>\r\n",
       "<!-- Earthquake&#45;&gt;Alarm -->\r\n",
       "<g id=\"edge2\" class=\"edge\"><title>Earthquake&#45;&gt;Alarm</title>\r\n",
       "<path fill=\"none\" stroke=\"black\" d=\"M146.825,-144.411C139.82,-135.655 131.097,-124.751 123.361,-115.082\"/>\r\n",
       "<polygon fill=\"black\" stroke=\"black\" points=\"125.866,-112.61 116.886,-106.988 120.4,-116.983 125.866,-112.61\"/>\r\n",
       "</g>\r\n",
       "</g>\r\n",
       "</svg>\r\n"
      ],
      "text/plain": [
       "<graphviz.dot.Digraph at 0x1b7d3c292c8>"
      ]
     },
     "execution_count": 47,
     "metadata": {},
     "output_type": "execute_result"
    }
   ],
   "source": [
    "visualise_bn(bn=bayesnet_alarm, use_full_names=True)"
   ]
  },
  {
   "cell_type": "code",
   "execution_count": 48,
   "id": "9c59dc84",
   "metadata": {
    "ExecuteTime": {
     "end_time": "2023-11-29T13:59:20.428502Z",
     "start_time": "2023-11-29T13:59:20.156436Z"
    }
   },
   "outputs": [
    {
     "data": {
      "image/svg+xml": [
       "<?xml version=\"1.0\" encoding=\"UTF-8\" standalone=\"no\"?>\r\n",
       "<!DOCTYPE svg PUBLIC \"-//W3C//DTD SVG 1.1//EN\"\r\n",
       " \"http://www.w3.org/Graphics/SVG/1.1/DTD/svg11.dtd\">\r\n",
       "<!-- Generated by graphviz version 2.38.0 (20140413.2041)\r\n",
       " -->\r\n",
       "<!-- Title: %3 Pages: 1 -->\r\n",
       "<svg width=\"468pt\" height=\"188pt\"\r\n",
       " viewBox=\"0.00 0.00 468.04 188.00\" xmlns=\"http://www.w3.org/2000/svg\" xmlns:xlink=\"http://www.w3.org/1999/xlink\">\r\n",
       "<g id=\"graph0\" class=\"graph\" transform=\"scale(1 1) rotate(0) translate(4 184)\">\r\n",
       "<title>%3</title>\r\n",
       "<polygon fill=\"white\" stroke=\"none\" points=\"-4,4 -4,-184 464.035,-184 464.035,4 -4,4\"/>\r\n",
       "<!-- Visited Mars -->\r\n",
       "<g id=\"node1\" class=\"node\"><title>Visited Mars</title>\r\n",
       "<ellipse fill=\"none\" stroke=\"black\" cx=\"216.694\" cy=\"-162\" rx=\"57.3905\" ry=\"18\"/>\r\n",
       "<text text-anchor=\"middle\" x=\"216.694\" y=\"-158.3\" font-family=\"Times New Roman,serif\" font-size=\"14.00\">Visited Mars</text>\r\n",
       "</g>\r\n",
       "<!-- Martian death flu -->\r\n",
       "<g id=\"node2\" class=\"node\"><title>Martian death flu</title>\r\n",
       "<ellipse fill=\"none\" stroke=\"black\" cx=\"216.694\" cy=\"-90\" rx=\"71.4873\" ry=\"18\"/>\r\n",
       "<text text-anchor=\"middle\" x=\"216.694\" y=\"-86.3\" font-family=\"Times New Roman,serif\" font-size=\"14.00\">Martian death flu</text>\r\n",
       "</g>\r\n",
       "<!-- Visited Mars&#45;&gt;Martian death flu -->\r\n",
       "<g id=\"edge1\" class=\"edge\"><title>Visited Mars&#45;&gt;Martian death flu</title>\r\n",
       "<path fill=\"none\" stroke=\"black\" d=\"M216.694,-143.697C216.694,-135.983 216.694,-126.712 216.694,-118.112\"/>\r\n",
       "<polygon fill=\"black\" stroke=\"black\" points=\"220.194,-118.104 216.694,-108.104 213.194,-118.104 220.194,-118.104\"/>\r\n",
       "</g>\r\n",
       "<!-- Runny nose -->\r\n",
       "<g id=\"node3\" class=\"node\"><title>Runny nose</title>\r\n",
       "<ellipse fill=\"none\" stroke=\"black\" cx=\"181.694\" cy=\"-18\" rx=\"53.8905\" ry=\"18\"/>\r\n",
       "<text text-anchor=\"middle\" x=\"181.694\" y=\"-14.3\" font-family=\"Times New Roman,serif\" font-size=\"14.00\">Runny nose</text>\r\n",
       "</g>\r\n",
       "<!-- Martian death flu&#45;&gt;Runny nose -->\r\n",
       "<g id=\"edge2\" class=\"edge\"><title>Martian death flu&#45;&gt;Runny nose</title>\r\n",
       "<path fill=\"none\" stroke=\"black\" d=\"M208.222,-72.055C204.138,-63.8866 199.15,-53.9116 194.607,-44.8244\"/>\r\n",
       "<polygon fill=\"black\" stroke=\"black\" points=\"197.692,-43.168 190.089,-35.789 191.431,-46.2985 197.692,-43.168\"/>\r\n",
       "</g>\r\n",
       "<!-- Headache -->\r\n",
       "<g id=\"node4\" class=\"node\"><title>Headache</title>\r\n",
       "<ellipse fill=\"none\" stroke=\"black\" cx=\"63.6943\" cy=\"-18\" rx=\"46.2923\" ry=\"18\"/>\r\n",
       "<text text-anchor=\"middle\" x=\"63.6943\" y=\"-14.3\" font-family=\"Times New Roman,serif\" font-size=\"14.00\">Headache</text>\r\n",
       "</g>\r\n",
       "<!-- Martian death flu&#45;&gt;Headache -->\r\n",
       "<g id=\"edge3\" class=\"edge\"><title>Martian death flu&#45;&gt;Headache</title>\r\n",
       "<path fill=\"none\" stroke=\"black\" d=\"M183.872,-73.9832C159.814,-62.9761 127.088,-48.0036 101.861,-36.4621\"/>\r\n",
       "<polygon fill=\"black\" stroke=\"black\" points=\"103.144,-33.1998 92.594,-32.2221 100.231,-39.5652 103.144,-33.1998\"/>\r\n",
       "</g>\r\n",
       "<!-- Spontaneous combustion -->\r\n",
       "<g id=\"node5\" class=\"node\"><title>Spontaneous combustion</title>\r\n",
       "<ellipse fill=\"none\" stroke=\"black\" cx=\"356.694\" cy=\"-18\" rx=\"103.182\" ry=\"18\"/>\r\n",
       "<text text-anchor=\"middle\" x=\"356.694\" y=\"-14.3\" font-family=\"Times New Roman,serif\" font-size=\"14.00\">Spontaneous combustion</text>\r\n",
       "</g>\r\n",
       "<!-- Martian death flu&#45;&gt;Spontaneous combustion -->\r\n",
       "<g id=\"edge4\" class=\"edge\"><title>Martian death flu&#45;&gt;Spontaneous combustion</title>\r\n",
       "<path fill=\"none\" stroke=\"black\" d=\"M247.418,-73.6382C267.279,-63.7076 293.377,-50.6586 315.088,-39.8033\"/>\r\n",
       "<polygon fill=\"black\" stroke=\"black\" points=\"316.714,-42.9035 324.093,-35.3008 313.583,-36.6425 316.714,-42.9035\"/>\r\n",
       "</g>\r\n",
       "<!-- Common cold -->\r\n",
       "<g id=\"node6\" class=\"node\"><title>Common cold</title>\r\n",
       "<ellipse fill=\"none\" stroke=\"black\" cx=\"63.6943\" cy=\"-90\" rx=\"63.8893\" ry=\"18\"/>\r\n",
       "<text text-anchor=\"middle\" x=\"63.6943\" y=\"-86.3\" font-family=\"Times New Roman,serif\" font-size=\"14.00\">Common cold</text>\r\n",
       "</g>\r\n",
       "<!-- Common cold&#45;&gt;Runny nose -->\r\n",
       "<g id=\"edge5\" class=\"edge\"><title>Common cold&#45;&gt;Runny nose</title>\r\n",
       "<path fill=\"none\" stroke=\"black\" d=\"M89.8824,-73.4647C106.921,-63.3574 129.312,-50.0745 147.716,-39.1567\"/>\r\n",
       "<polygon fill=\"black\" stroke=\"black\" points=\"149.575,-42.1236 156.389,-34.0114 146.003,-36.1033 149.575,-42.1236\"/>\r\n",
       "</g>\r\n",
       "<!-- Common cold&#45;&gt;Headache -->\r\n",
       "<g id=\"edge6\" class=\"edge\"><title>Common cold&#45;&gt;Headache</title>\r\n",
       "<path fill=\"none\" stroke=\"black\" d=\"M63.6943,-71.6966C63.6943,-63.9827 63.6943,-54.7125 63.6943,-46.1124\"/>\r\n",
       "<polygon fill=\"black\" stroke=\"black\" points=\"67.1944,-46.1043 63.6943,-36.1043 60.1944,-46.1044 67.1944,-46.1043\"/>\r\n",
       "</g>\r\n",
       "</g>\r\n",
       "</svg>\r\n"
      ],
      "text/plain": [
       "<graphviz.dot.Digraph at 0x1b7d39347c8>"
      ]
     },
     "execution_count": 48,
     "metadata": {},
     "output_type": "execute_result"
    }
   ],
   "source": [
    "visualise_bn(bn=bayesnet_mars, use_full_names=True)"
   ]
  },
  {
   "cell_type": "markdown",
   "id": "59246d81",
   "metadata": {},
   "source": [
    "# Specifying the joint probability distribution via conditional probabilities"
   ]
  },
  {
   "cell_type": "markdown",
   "id": "44897da2",
   "metadata": {},
   "source": [
    "# Parsing conditional probabilities to initialise a Bayes net"
   ]
  },
  {
   "cell_type": "markdown",
   "id": "f558ef48",
   "metadata": {},
   "source": [
    "# Simulating a Bayes net"
   ]
  },
  {
   "cell_type": "markdown",
   "id": "2965fbb0",
   "metadata": {},
   "source": [
    "# Visualising results"
   ]
  },
  {
   "cell_type": "markdown",
   "id": "f8ae6527",
   "metadata": {},
   "source": [
    "# Inference from simulation"
   ]
  },
  {
   "cell_type": "markdown",
   "id": "bb08e3d8",
   "metadata": {},
   "source": [
    "# Testing the implementation"
   ]
  },
  {
   "cell_type": "markdown",
   "id": "392488eb",
   "metadata": {},
   "source": [
    "# Extending the implementation"
   ]
  },
  {
   "cell_type": "markdown",
   "id": "701d3900",
   "metadata": {},
   "source": []
  }
 ],
 "metadata": {
  "kernelspec": {
   "display_name": "Python 3 (ipykernel)",
   "language": "python",
   "name": "python3"
  },
  "language_info": {
   "codemirror_mode": {
    "name": "ipython",
    "version": 3
   },
   "file_extension": ".py",
   "mimetype": "text/x-python",
   "name": "python",
   "nbconvert_exporter": "python",
   "pygments_lexer": "ipython3",
   "version": "3.7.11"
  },
  "toc": {
   "base_numbering": 1,
   "nav_menu": {},
   "number_sections": true,
   "sideBar": true,
   "skip_h1_title": false,
   "title_cell": "Table of Contents",
   "title_sidebar": "Contents",
   "toc_cell": false,
   "toc_position": {},
   "toc_section_display": true,
   "toc_window_display": true
  },
  "varInspector": {
   "cols": {
    "lenName": 16,
    "lenType": 16,
    "lenVar": 40
   },
   "kernels_config": {
    "python": {
     "delete_cmd_postfix": "",
     "delete_cmd_prefix": "del ",
     "library": "var_list.py",
     "varRefreshCmd": "print(var_dic_list())"
    },
    "r": {
     "delete_cmd_postfix": ") ",
     "delete_cmd_prefix": "rm(",
     "library": "var_list.r",
     "varRefreshCmd": "cat(var_dic_list()) "
    }
   },
   "types_to_exclude": [
    "module",
    "function",
    "builtin_function_or_method",
    "instance",
    "_Feature"
   ],
   "window_display": false
  }
 },
 "nbformat": 4,
 "nbformat_minor": 5
}
